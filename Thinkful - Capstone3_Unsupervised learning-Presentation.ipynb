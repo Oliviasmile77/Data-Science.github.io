{
 "cells": [
  {
   "cell_type": "markdown",
   "metadata": {
    "slideshow": {
     "slide_type": "slide"
    }
   },
   "source": [
    "# Capstone 3_Unsupervised learning\n",
    "\n",
    "Netflix wants to identify similar movies based on movie characteristics.\n",
    "\n",
    "### data sourse: \n",
    "https://www.kaggle.com/rounakbanik/the-movies-dataset\n",
    "\n",
    "### Content\n",
    "The main Movies Metadata file contains information on 45,000 movies featured in the Full MovieLens dataset. Features include genres, vote average, vote count, budget, revenue, release dates, runtime, spoken languages, original languages, production countries and companies.\n",
    "\n",
    "### Goal \n",
    "Our goal is to identify similar movies based on movie characteristics."
   ]
  },
  {
   "cell_type": "markdown",
   "metadata": {
    "slideshow": {
     "slide_type": "slide"
    }
   },
   "source": [
    "# Explore/clean the data & feature engineering"
   ]
  },
  {
   "cell_type": "code",
   "execution_count": 1,
   "metadata": {
    "slideshow": {
     "slide_type": "skip"
    }
   },
   "outputs": [],
   "source": [
    "import numpy as np\n",
    "import pandas as pd\n",
    "import matplotlib.pyplot as plt\n",
    "%matplotlib inline"
   ]
  },
  {
   "cell_type": "code",
   "execution_count": 2,
   "metadata": {
    "slideshow": {
     "slide_type": "skip"
    }
   },
   "outputs": [
    {
     "name": "stderr",
     "output_type": "stream",
     "text": [
      "C:\\Users\\ojiang1\\Documents\\ANACONDA\\lib\\site-packages\\IPython\\core\\interactiveshell.py:3020: DtypeWarning: Columns (10) have mixed types.Specify dtype option on import or set low_memory=False.\n",
      "  interactivity=interactivity, compiler=compiler, result=result)\n"
     ]
    }
   ],
   "source": [
    "df = pd.read_csv(r'C:\\Users\\ojiang1\\Desktop\\Data Science\\Capstone3_Unsupervised learning\\moviesmetadata.csv')"
   ]
  },
  {
   "cell_type": "code",
   "execution_count": 3,
   "metadata": {
    "slideshow": {
     "slide_type": "subslide"
    }
   },
   "outputs": [
    {
     "name": "stdout",
     "output_type": "stream",
     "text": [
      "<class 'pandas.core.frame.DataFrame'>\n",
      "RangeIndex: 45466 entries, 0 to 45465\n",
      "Data columns (total 24 columns):\n",
      " #   Column                 Non-Null Count  Dtype  \n",
      "---  ------                 --------------  -----  \n",
      " 0   adult                  45466 non-null  object \n",
      " 1   belongs_to_collection  4494 non-null   object \n",
      " 2   budget                 45466 non-null  object \n",
      " 3   genres                 45466 non-null  object \n",
      " 4   homepage               7782 non-null   object \n",
      " 5   id                     45466 non-null  object \n",
      " 6   imdb_id                45449 non-null  object \n",
      " 7   original_language      45455 non-null  object \n",
      " 8   original_title         45466 non-null  object \n",
      " 9   overview               44512 non-null  object \n",
      " 10  popularity             45461 non-null  object \n",
      " 11  poster_path            45080 non-null  object \n",
      " 12  production_companies   45463 non-null  object \n",
      " 13  production_countries   45463 non-null  object \n",
      " 14  release_date           45379 non-null  object \n",
      " 15  revenue                45460 non-null  float64\n",
      " 16  runtime                45203 non-null  float64\n",
      " 17  spoken_languages       45460 non-null  object \n",
      " 18  status                 45379 non-null  object \n",
      " 19  tagline                20412 non-null  object \n",
      " 20  title                  45460 non-null  object \n",
      " 21  video                  45460 non-null  object \n",
      " 22  vote_average           45460 non-null  float64\n",
      " 23  vote_count             45460 non-null  float64\n",
      "dtypes: float64(4), object(20)\n",
      "memory usage: 8.3+ MB\n"
     ]
    }
   ],
   "source": [
    "df.info()"
   ]
  },
  {
   "cell_type": "code",
   "execution_count": 4,
   "metadata": {
    "slideshow": {
     "slide_type": "subslide"
    }
   },
   "outputs": [
    {
     "data": {
      "text/html": [
       "<div>\n",
       "<style scoped>\n",
       "    .dataframe tbody tr th:only-of-type {\n",
       "        vertical-align: middle;\n",
       "    }\n",
       "\n",
       "    .dataframe tbody tr th {\n",
       "        vertical-align: top;\n",
       "    }\n",
       "\n",
       "    .dataframe thead th {\n",
       "        text-align: right;\n",
       "    }\n",
       "</style>\n",
       "<table border=\"1\" class=\"dataframe\">\n",
       "  <thead>\n",
       "    <tr style=\"text-align: right;\">\n",
       "      <th></th>\n",
       "      <th>adult</th>\n",
       "      <th>belongs_to_collection</th>\n",
       "      <th>budget</th>\n",
       "      <th>genres</th>\n",
       "      <th>homepage</th>\n",
       "      <th>id</th>\n",
       "      <th>imdb_id</th>\n",
       "      <th>original_language</th>\n",
       "      <th>original_title</th>\n",
       "      <th>overview</th>\n",
       "      <th>...</th>\n",
       "      <th>release_date</th>\n",
       "      <th>revenue</th>\n",
       "      <th>runtime</th>\n",
       "      <th>spoken_languages</th>\n",
       "      <th>status</th>\n",
       "      <th>tagline</th>\n",
       "      <th>title</th>\n",
       "      <th>video</th>\n",
       "      <th>vote_average</th>\n",
       "      <th>vote_count</th>\n",
       "    </tr>\n",
       "  </thead>\n",
       "  <tbody>\n",
       "    <tr>\n",
       "      <th>0</th>\n",
       "      <td>False</td>\n",
       "      <td>{'id': 10194, 'name': 'Toy Story Collection', ...</td>\n",
       "      <td>30000000</td>\n",
       "      <td>[{'id': 16, 'name': 'Animation'}, {'id': 35, '...</td>\n",
       "      <td>http://toystory.disney.com/toy-story</td>\n",
       "      <td>862</td>\n",
       "      <td>tt0114709</td>\n",
       "      <td>en</td>\n",
       "      <td>Toy Story</td>\n",
       "      <td>Led by Woody, Andy's toys live happily in his ...</td>\n",
       "      <td>...</td>\n",
       "      <td>1995-10-30</td>\n",
       "      <td>373554033.0</td>\n",
       "      <td>81.0</td>\n",
       "      <td>[{'iso_639_1': 'en', 'name': 'English'}]</td>\n",
       "      <td>Released</td>\n",
       "      <td>NaN</td>\n",
       "      <td>Toy Story</td>\n",
       "      <td>False</td>\n",
       "      <td>7.7</td>\n",
       "      <td>5415.0</td>\n",
       "    </tr>\n",
       "    <tr>\n",
       "      <th>1</th>\n",
       "      <td>False</td>\n",
       "      <td>NaN</td>\n",
       "      <td>65000000</td>\n",
       "      <td>[{'id': 12, 'name': 'Adventure'}, {'id': 14, '...</td>\n",
       "      <td>NaN</td>\n",
       "      <td>8844</td>\n",
       "      <td>tt0113497</td>\n",
       "      <td>en</td>\n",
       "      <td>Jumanji</td>\n",
       "      <td>When siblings Judy and Peter discover an encha...</td>\n",
       "      <td>...</td>\n",
       "      <td>1995-12-15</td>\n",
       "      <td>262797249.0</td>\n",
       "      <td>104.0</td>\n",
       "      <td>[{'iso_639_1': 'en', 'name': 'English'}, {'iso...</td>\n",
       "      <td>Released</td>\n",
       "      <td>Roll the dice and unleash the excitement!</td>\n",
       "      <td>Jumanji</td>\n",
       "      <td>False</td>\n",
       "      <td>6.9</td>\n",
       "      <td>2413.0</td>\n",
       "    </tr>\n",
       "    <tr>\n",
       "      <th>2</th>\n",
       "      <td>False</td>\n",
       "      <td>{'id': 119050, 'name': 'Grumpy Old Men Collect...</td>\n",
       "      <td>0</td>\n",
       "      <td>[{'id': 10749, 'name': 'Romance'}, {'id': 35, ...</td>\n",
       "      <td>NaN</td>\n",
       "      <td>15602</td>\n",
       "      <td>tt0113228</td>\n",
       "      <td>en</td>\n",
       "      <td>Grumpier Old Men</td>\n",
       "      <td>A family wedding reignites the ancient feud be...</td>\n",
       "      <td>...</td>\n",
       "      <td>1995-12-22</td>\n",
       "      <td>0.0</td>\n",
       "      <td>101.0</td>\n",
       "      <td>[{'iso_639_1': 'en', 'name': 'English'}]</td>\n",
       "      <td>Released</td>\n",
       "      <td>Still Yelling. Still Fighting. Still Ready for...</td>\n",
       "      <td>Grumpier Old Men</td>\n",
       "      <td>False</td>\n",
       "      <td>6.5</td>\n",
       "      <td>92.0</td>\n",
       "    </tr>\n",
       "    <tr>\n",
       "      <th>3</th>\n",
       "      <td>False</td>\n",
       "      <td>NaN</td>\n",
       "      <td>16000000</td>\n",
       "      <td>[{'id': 35, 'name': 'Comedy'}, {'id': 18, 'nam...</td>\n",
       "      <td>NaN</td>\n",
       "      <td>31357</td>\n",
       "      <td>tt0114885</td>\n",
       "      <td>en</td>\n",
       "      <td>Waiting to Exhale</td>\n",
       "      <td>Cheated on, mistreated and stepped on, the wom...</td>\n",
       "      <td>...</td>\n",
       "      <td>1995-12-22</td>\n",
       "      <td>81452156.0</td>\n",
       "      <td>127.0</td>\n",
       "      <td>[{'iso_639_1': 'en', 'name': 'English'}]</td>\n",
       "      <td>Released</td>\n",
       "      <td>Friends are the people who let you be yourself...</td>\n",
       "      <td>Waiting to Exhale</td>\n",
       "      <td>False</td>\n",
       "      <td>6.1</td>\n",
       "      <td>34.0</td>\n",
       "    </tr>\n",
       "    <tr>\n",
       "      <th>4</th>\n",
       "      <td>False</td>\n",
       "      <td>{'id': 96871, 'name': 'Father of the Bride Col...</td>\n",
       "      <td>0</td>\n",
       "      <td>[{'id': 35, 'name': 'Comedy'}]</td>\n",
       "      <td>NaN</td>\n",
       "      <td>11862</td>\n",
       "      <td>tt0113041</td>\n",
       "      <td>en</td>\n",
       "      <td>Father of the Bride Part II</td>\n",
       "      <td>Just when George Banks has recovered from his ...</td>\n",
       "      <td>...</td>\n",
       "      <td>1995-02-10</td>\n",
       "      <td>76578911.0</td>\n",
       "      <td>106.0</td>\n",
       "      <td>[{'iso_639_1': 'en', 'name': 'English'}]</td>\n",
       "      <td>Released</td>\n",
       "      <td>Just When His World Is Back To Normal... He's ...</td>\n",
       "      <td>Father of the Bride Part II</td>\n",
       "      <td>False</td>\n",
       "      <td>5.7</td>\n",
       "      <td>173.0</td>\n",
       "    </tr>\n",
       "  </tbody>\n",
       "</table>\n",
       "<p>5 rows × 24 columns</p>\n",
       "</div>"
      ],
      "text/plain": [
       "   adult                              belongs_to_collection    budget  \\\n",
       "0  False  {'id': 10194, 'name': 'Toy Story Collection', ...  30000000   \n",
       "1  False                                                NaN  65000000   \n",
       "2  False  {'id': 119050, 'name': 'Grumpy Old Men Collect...         0   \n",
       "3  False                                                NaN  16000000   \n",
       "4  False  {'id': 96871, 'name': 'Father of the Bride Col...         0   \n",
       "\n",
       "                                              genres  \\\n",
       "0  [{'id': 16, 'name': 'Animation'}, {'id': 35, '...   \n",
       "1  [{'id': 12, 'name': 'Adventure'}, {'id': 14, '...   \n",
       "2  [{'id': 10749, 'name': 'Romance'}, {'id': 35, ...   \n",
       "3  [{'id': 35, 'name': 'Comedy'}, {'id': 18, 'nam...   \n",
       "4                     [{'id': 35, 'name': 'Comedy'}]   \n",
       "\n",
       "                               homepage     id    imdb_id original_language  \\\n",
       "0  http://toystory.disney.com/toy-story    862  tt0114709                en   \n",
       "1                                   NaN   8844  tt0113497                en   \n",
       "2                                   NaN  15602  tt0113228                en   \n",
       "3                                   NaN  31357  tt0114885                en   \n",
       "4                                   NaN  11862  tt0113041                en   \n",
       "\n",
       "                original_title  \\\n",
       "0                    Toy Story   \n",
       "1                      Jumanji   \n",
       "2             Grumpier Old Men   \n",
       "3            Waiting to Exhale   \n",
       "4  Father of the Bride Part II   \n",
       "\n",
       "                                            overview  ... release_date  \\\n",
       "0  Led by Woody, Andy's toys live happily in his ...  ...   1995-10-30   \n",
       "1  When siblings Judy and Peter discover an encha...  ...   1995-12-15   \n",
       "2  A family wedding reignites the ancient feud be...  ...   1995-12-22   \n",
       "3  Cheated on, mistreated and stepped on, the wom...  ...   1995-12-22   \n",
       "4  Just when George Banks has recovered from his ...  ...   1995-02-10   \n",
       "\n",
       "       revenue runtime                                   spoken_languages  \\\n",
       "0  373554033.0    81.0           [{'iso_639_1': 'en', 'name': 'English'}]   \n",
       "1  262797249.0   104.0  [{'iso_639_1': 'en', 'name': 'English'}, {'iso...   \n",
       "2          0.0   101.0           [{'iso_639_1': 'en', 'name': 'English'}]   \n",
       "3   81452156.0   127.0           [{'iso_639_1': 'en', 'name': 'English'}]   \n",
       "4   76578911.0   106.0           [{'iso_639_1': 'en', 'name': 'English'}]   \n",
       "\n",
       "     status                                            tagline  \\\n",
       "0  Released                                                NaN   \n",
       "1  Released          Roll the dice and unleash the excitement!   \n",
       "2  Released  Still Yelling. Still Fighting. Still Ready for...   \n",
       "3  Released  Friends are the people who let you be yourself...   \n",
       "4  Released  Just When His World Is Back To Normal... He's ...   \n",
       "\n",
       "                         title  video vote_average vote_count  \n",
       "0                    Toy Story  False          7.7     5415.0  \n",
       "1                      Jumanji  False          6.9     2413.0  \n",
       "2             Grumpier Old Men  False          6.5       92.0  \n",
       "3            Waiting to Exhale  False          6.1       34.0  \n",
       "4  Father of the Bride Part II  False          5.7      173.0  \n",
       "\n",
       "[5 rows x 24 columns]"
      ]
     },
     "execution_count": 4,
     "metadata": {},
     "output_type": "execute_result"
    }
   ],
   "source": [
    "df.head()"
   ]
  },
  {
   "cell_type": "markdown",
   "metadata": {
    "slideshow": {
     "slide_type": "subslide"
    }
   },
   "source": [
    "## Dealing missing values & meaningless values"
   ]
  },
  {
   "cell_type": "code",
   "execution_count": 5,
   "metadata": {
    "slideshow": {
     "slide_type": "subslide"
    }
   },
   "outputs": [
    {
     "data": {
      "text/plain": [
       "adult                     0.000000\n",
       "belongs_to_collection    90.115691\n",
       "budget                    0.000000\n",
       "genres                    0.000000\n",
       "homepage                 82.883913\n",
       "id                        0.000000\n",
       "imdb_id                   0.037391\n",
       "original_language         0.024194\n",
       "original_title            0.000000\n",
       "overview                  2.098271\n",
       "popularity                0.010997\n",
       "poster_path               0.848986\n",
       "production_companies      0.006598\n",
       "production_countries      0.006598\n",
       "release_date              0.191352\n",
       "revenue                   0.013197\n",
       "runtime                   0.578454\n",
       "spoken_languages          0.013197\n",
       "status                    0.191352\n",
       "tagline                  55.104914\n",
       "title                     0.013197\n",
       "video                     0.013197\n",
       "vote_average              0.013197\n",
       "vote_count                0.013197\n",
       "dtype: float64"
      ]
     },
     "execution_count": 5,
     "metadata": {},
     "output_type": "execute_result"
    }
   ],
   "source": [
    "df.isnull().sum()*100/df.isnull().count()"
   ]
  },
  {
   "cell_type": "markdown",
   "metadata": {
    "slideshow": {
     "slide_type": "subslide"
    }
   },
   "source": [
    "## dropping columns that have more than half missing values:\n",
    "belongs_to_collection, homepage, tagline \n",
    "\n",
    "## dropping meaningless columns:\n",
    "id, imdb_id "
   ]
  },
  {
   "cell_type": "code",
   "execution_count": 6,
   "metadata": {
    "slideshow": {
     "slide_type": "skip"
    }
   },
   "outputs": [
    {
     "name": "stdout",
     "output_type": "stream",
     "text": [
      "<class 'pandas.core.frame.DataFrame'>\n",
      "Int64Index: 44058 entries, 0 to 45465\n",
      "Data columns (total 19 columns):\n",
      " #   Column                Non-Null Count  Dtype  \n",
      "---  ------                --------------  -----  \n",
      " 0   adult                 44058 non-null  object \n",
      " 1   budget                44058 non-null  object \n",
      " 2   genres                44058 non-null  object \n",
      " 3   original_language     44058 non-null  object \n",
      " 4   original_title        44058 non-null  object \n",
      " 5   overview              44058 non-null  object \n",
      " 6   popularity            44058 non-null  object \n",
      " 7   poster_path           44058 non-null  object \n",
      " 8   production_companies  44058 non-null  object \n",
      " 9   production_countries  44058 non-null  object \n",
      " 10  release_date          44058 non-null  object \n",
      " 11  revenue               44058 non-null  float64\n",
      " 12  runtime               44058 non-null  float64\n",
      " 13  spoken_languages      44058 non-null  object \n",
      " 14  status                44058 non-null  object \n",
      " 15  title                 44058 non-null  object \n",
      " 16  video                 44058 non-null  object \n",
      " 17  vote_average          44058 non-null  float64\n",
      " 18  vote_count            44058 non-null  float64\n",
      "dtypes: float64(4), object(15)\n",
      "memory usage: 6.7+ MB\n"
     ]
    },
    {
     "data": {
      "text/plain": [
       "Index(['adult', 'budget', 'genres', 'original_language', 'original_title',\n",
       "       'overview', 'popularity', 'poster_path', 'production_companies',\n",
       "       'production_countries', 'release_date', 'revenue', 'runtime',\n",
       "       'spoken_languages', 'status', 'title', 'video', 'vote_average',\n",
       "       'vote_count'],\n",
       "      dtype='object')"
      ]
     },
     "execution_count": 6,
     "metadata": {},
     "output_type": "execute_result"
    }
   ],
   "source": [
    "# dropping columns that have more than half missing values:\n",
    "# belongs_to_collection, homepage and tagline \n",
    "# id and imdb_id are meaningless in data analysis/clustering, thus drop\n",
    "\n",
    "df=df.drop(['belongs_to_collection','homepage','tagline','imdb_id','id'],1)\n",
    "df.dropna(axis=0,  inplace=True)\n",
    "\n",
    "df.info()\n",
    "df.columns"
   ]
  },
  {
   "cell_type": "code",
   "execution_count": 7,
   "metadata": {
    "slideshow": {
     "slide_type": "subslide"
    }
   },
   "outputs": [
    {
     "data": {
      "text/plain": [
       "adult                       2\n",
       "budget                   1203\n",
       "genres                   4039\n",
       "original_language          89\n",
       "original_title          42014\n",
       "overview                43862\n",
       "popularity              43044\n",
       "poster_path             44003\n",
       "production_companies    22377\n",
       "production_countries     2360\n",
       "release_date            17110\n",
       "revenue                  6844\n",
       "runtime                   353\n",
       "spoken_languages         1921\n",
       "status                      6\n",
       "title                   40951\n",
       "video                       2\n",
       "vote_average               92\n",
       "vote_count               1820\n",
       "dtype: int64"
      ]
     },
     "execution_count": 7,
     "metadata": {},
     "output_type": "execute_result"
    }
   ],
   "source": [
    "# see whether data are balanced\n",
    "df.nunique()"
   ]
  },
  {
   "cell_type": "code",
   "execution_count": 8,
   "metadata": {
    "slideshow": {
     "slide_type": "skip"
    }
   },
   "outputs": [
    {
     "data": {
      "text/plain": [
       "False    44050\n",
       "True         8\n",
       "Name: adult, dtype: int64"
      ]
     },
     "execution_count": 8,
     "metadata": {},
     "output_type": "execute_result"
    }
   ],
   "source": [
    "#df['adult'].value_counts().plot(kind='bar')\n",
    "df['adult'].value_counts()\n",
    "# will delete adult since over 95% of the value is False \n",
    "# and thus not useful info in clustering"
   ]
  },
  {
   "cell_type": "code",
   "execution_count": 9,
   "metadata": {
    "slideshow": {
     "slide_type": "skip"
    }
   },
   "outputs": [
    {
     "data": {
      "text/plain": [
       "False    43975\n",
       "True        83\n",
       "Name: video, dtype: int64"
      ]
     },
     "execution_count": 9,
     "metadata": {},
     "output_type": "execute_result"
    }
   ],
   "source": [
    "# df['status'].value_counts().plot(kind='bar')\n",
    "df['status'].value_counts()\n",
    "\n",
    "# df['video'].value_counts().plot(kind='bar')\n",
    "df['video'].value_counts()\n",
    "\n",
    "# will delete status and video due to the same reason"
   ]
  },
  {
   "cell_type": "markdown",
   "metadata": {
    "slideshow": {
     "slide_type": "subslide"
    }
   },
   "source": [
    "## dropping columns that have over 95% values belonging to one category:\n",
    "adult,status,video"
   ]
  },
  {
   "cell_type": "code",
   "execution_count": 10,
   "metadata": {
    "slideshow": {
     "slide_type": "fragment"
    }
   },
   "outputs": [
    {
     "name": "stdout",
     "output_type": "stream",
     "text": [
      "<class 'pandas.core.frame.DataFrame'>\n",
      "Int64Index: 44058 entries, 0 to 45465\n",
      "Data columns (total 16 columns):\n",
      " #   Column                Non-Null Count  Dtype  \n",
      "---  ------                --------------  -----  \n",
      " 0   budget                44058 non-null  object \n",
      " 1   genres                44058 non-null  object \n",
      " 2   original_language     44058 non-null  object \n",
      " 3   original_title        44058 non-null  object \n",
      " 4   overview              44058 non-null  object \n",
      " 5   popularity            44058 non-null  object \n",
      " 6   poster_path           44058 non-null  object \n",
      " 7   production_companies  44058 non-null  object \n",
      " 8   production_countries  44058 non-null  object \n",
      " 9   release_date          44058 non-null  object \n",
      " 10  revenue               44058 non-null  float64\n",
      " 11  runtime               44058 non-null  float64\n",
      " 12  spoken_languages      44058 non-null  object \n",
      " 13  title                 44058 non-null  object \n",
      " 14  vote_average          44058 non-null  float64\n",
      " 15  vote_count            44058 non-null  float64\n",
      "dtypes: float64(4), object(12)\n",
      "memory usage: 5.7+ MB\n"
     ]
    },
    {
     "data": {
      "text/plain": [
       "Index(['budget', 'genres', 'original_language', 'original_title', 'overview',\n",
       "       'popularity', 'poster_path', 'production_companies',\n",
       "       'production_countries', 'release_date', 'revenue', 'runtime',\n",
       "       'spoken_languages', 'title', 'vote_average', 'vote_count'],\n",
       "      dtype='object')"
      ]
     },
     "execution_count": 10,
     "metadata": {},
     "output_type": "execute_result"
    }
   ],
   "source": [
    "df=df.drop(['adult','status','video'],1)\n",
    "df.info()\n",
    "df.columns"
   ]
  },
  {
   "cell_type": "markdown",
   "metadata": {
    "slideshow": {
     "slide_type": "subslide"
    }
   },
   "source": [
    "## Dropping columns that are too diversed, meaning more than 95% of the values are unique:\n",
    "original_title, overview, popularity, poster_path, production_companies,title"
   ]
  },
  {
   "cell_type": "code",
   "execution_count": 11,
   "metadata": {
    "slideshow": {
     "slide_type": "skip"
    }
   },
   "outputs": [
    {
     "data": {
      "text/plain": [
       "budget                   2.730492\n",
       "genres                   9.167461\n",
       "original_language        0.202006\n",
       "original_title          95.360661\n",
       "overview                99.555132\n",
       "popularity              97.698488\n",
       "poster_path             99.875165\n",
       "production_companies    50.789868\n",
       "production_countries     5.356575\n",
       "release_date            38.835172\n",
       "revenue                 15.534069\n",
       "runtime                  0.801217\n",
       "spoken_languages         4.360162\n",
       "title                   92.947932\n",
       "vote_average             0.208816\n",
       "vote_count               4.130918\n",
       "dtype: float64"
      ]
     },
     "execution_count": 11,
     "metadata": {},
     "output_type": "execute_result"
    }
   ],
   "source": [
    "# I also want to drop columns that are too diversed, ie. almost all values are unique\n",
    "# cuz it becomes pointless in clustering\n",
    "\n",
    "df.nunique()*100/df.isnull().count()\n",
    "\n",
    "# will drop original_title, overview, popularity, poster_path, production_companies,title\n"
   ]
  },
  {
   "cell_type": "code",
   "execution_count": 12,
   "metadata": {
    "slideshow": {
     "slide_type": "fragment"
    }
   },
   "outputs": [
    {
     "name": "stdout",
     "output_type": "stream",
     "text": [
      "<class 'pandas.core.frame.DataFrame'>\n",
      "Int64Index: 44058 entries, 0 to 45465\n",
      "Data columns (total 10 columns):\n",
      " #   Column                Non-Null Count  Dtype  \n",
      "---  ------                --------------  -----  \n",
      " 0   budget                44058 non-null  object \n",
      " 1   genres                44058 non-null  object \n",
      " 2   original_language     44058 non-null  object \n",
      " 3   production_countries  44058 non-null  object \n",
      " 4   release_date          44058 non-null  object \n",
      " 5   revenue               44058 non-null  float64\n",
      " 6   runtime               44058 non-null  float64\n",
      " 7   spoken_languages      44058 non-null  object \n",
      " 8   vote_average          44058 non-null  float64\n",
      " 9   vote_count            44058 non-null  float64\n",
      "dtypes: float64(4), object(6)\n",
      "memory usage: 3.7+ MB\n"
     ]
    },
    {
     "data": {
      "text/plain": [
       "Index(['budget', 'genres', 'original_language', 'production_countries',\n",
       "       'release_date', 'revenue', 'runtime', 'spoken_languages',\n",
       "       'vote_average', 'vote_count'],\n",
       "      dtype='object')"
      ]
     },
     "execution_count": 12,
     "metadata": {},
     "output_type": "execute_result"
    }
   ],
   "source": [
    "df=df.drop(['original_title', 'overview', 'popularity', 'poster_path','production_companies','title'],1)\n",
    "df.info()\n",
    "df.columns\n"
   ]
  },
  {
   "cell_type": "markdown",
   "metadata": {
    "slideshow": {
     "slide_type": "subslide"
    }
   },
   "source": [
    "## now lets take a look at the data "
   ]
  },
  {
   "cell_type": "code",
   "execution_count": 13,
   "metadata": {
    "slideshow": {
     "slide_type": "subslide"
    }
   },
   "outputs": [
    {
     "data": {
      "text/html": [
       "<div>\n",
       "<style scoped>\n",
       "    .dataframe tbody tr th:only-of-type {\n",
       "        vertical-align: middle;\n",
       "    }\n",
       "\n",
       "    .dataframe tbody tr th {\n",
       "        vertical-align: top;\n",
       "    }\n",
       "\n",
       "    .dataframe thead th {\n",
       "        text-align: right;\n",
       "    }\n",
       "</style>\n",
       "<table border=\"1\" class=\"dataframe\">\n",
       "  <thead>\n",
       "    <tr style=\"text-align: right;\">\n",
       "      <th></th>\n",
       "      <th>budget</th>\n",
       "      <th>genres</th>\n",
       "      <th>original_language</th>\n",
       "      <th>production_countries</th>\n",
       "      <th>release_date</th>\n",
       "      <th>revenue</th>\n",
       "      <th>runtime</th>\n",
       "      <th>spoken_languages</th>\n",
       "      <th>vote_average</th>\n",
       "      <th>vote_count</th>\n",
       "    </tr>\n",
       "  </thead>\n",
       "  <tbody>\n",
       "    <tr>\n",
       "      <th>0</th>\n",
       "      <td>30000000</td>\n",
       "      <td>[{'id': 16, 'name': 'Animation'}, {'id': 35, '...</td>\n",
       "      <td>en</td>\n",
       "      <td>[{'iso_3166_1': 'US', 'name': 'United States o...</td>\n",
       "      <td>1995-10-30</td>\n",
       "      <td>373554033.0</td>\n",
       "      <td>81.0</td>\n",
       "      <td>[{'iso_639_1': 'en', 'name': 'English'}]</td>\n",
       "      <td>7.7</td>\n",
       "      <td>5415.0</td>\n",
       "    </tr>\n",
       "    <tr>\n",
       "      <th>1</th>\n",
       "      <td>65000000</td>\n",
       "      <td>[{'id': 12, 'name': 'Adventure'}, {'id': 14, '...</td>\n",
       "      <td>en</td>\n",
       "      <td>[{'iso_3166_1': 'US', 'name': 'United States o...</td>\n",
       "      <td>1995-12-15</td>\n",
       "      <td>262797249.0</td>\n",
       "      <td>104.0</td>\n",
       "      <td>[{'iso_639_1': 'en', 'name': 'English'}, {'iso...</td>\n",
       "      <td>6.9</td>\n",
       "      <td>2413.0</td>\n",
       "    </tr>\n",
       "    <tr>\n",
       "      <th>2</th>\n",
       "      <td>0</td>\n",
       "      <td>[{'id': 10749, 'name': 'Romance'}, {'id': 35, ...</td>\n",
       "      <td>en</td>\n",
       "      <td>[{'iso_3166_1': 'US', 'name': 'United States o...</td>\n",
       "      <td>1995-12-22</td>\n",
       "      <td>0.0</td>\n",
       "      <td>101.0</td>\n",
       "      <td>[{'iso_639_1': 'en', 'name': 'English'}]</td>\n",
       "      <td>6.5</td>\n",
       "      <td>92.0</td>\n",
       "    </tr>\n",
       "    <tr>\n",
       "      <th>3</th>\n",
       "      <td>16000000</td>\n",
       "      <td>[{'id': 35, 'name': 'Comedy'}, {'id': 18, 'nam...</td>\n",
       "      <td>en</td>\n",
       "      <td>[{'iso_3166_1': 'US', 'name': 'United States o...</td>\n",
       "      <td>1995-12-22</td>\n",
       "      <td>81452156.0</td>\n",
       "      <td>127.0</td>\n",
       "      <td>[{'iso_639_1': 'en', 'name': 'English'}]</td>\n",
       "      <td>6.1</td>\n",
       "      <td>34.0</td>\n",
       "    </tr>\n",
       "    <tr>\n",
       "      <th>4</th>\n",
       "      <td>0</td>\n",
       "      <td>[{'id': 35, 'name': 'Comedy'}]</td>\n",
       "      <td>en</td>\n",
       "      <td>[{'iso_3166_1': 'US', 'name': 'United States o...</td>\n",
       "      <td>1995-02-10</td>\n",
       "      <td>76578911.0</td>\n",
       "      <td>106.0</td>\n",
       "      <td>[{'iso_639_1': 'en', 'name': 'English'}]</td>\n",
       "      <td>5.7</td>\n",
       "      <td>173.0</td>\n",
       "    </tr>\n",
       "  </tbody>\n",
       "</table>\n",
       "</div>"
      ],
      "text/plain": [
       "     budget                                             genres  \\\n",
       "0  30000000  [{'id': 16, 'name': 'Animation'}, {'id': 35, '...   \n",
       "1  65000000  [{'id': 12, 'name': 'Adventure'}, {'id': 14, '...   \n",
       "2         0  [{'id': 10749, 'name': 'Romance'}, {'id': 35, ...   \n",
       "3  16000000  [{'id': 35, 'name': 'Comedy'}, {'id': 18, 'nam...   \n",
       "4         0                     [{'id': 35, 'name': 'Comedy'}]   \n",
       "\n",
       "  original_language                               production_countries  \\\n",
       "0                en  [{'iso_3166_1': 'US', 'name': 'United States o...   \n",
       "1                en  [{'iso_3166_1': 'US', 'name': 'United States o...   \n",
       "2                en  [{'iso_3166_1': 'US', 'name': 'United States o...   \n",
       "3                en  [{'iso_3166_1': 'US', 'name': 'United States o...   \n",
       "4                en  [{'iso_3166_1': 'US', 'name': 'United States o...   \n",
       "\n",
       "  release_date      revenue  runtime  \\\n",
       "0   1995-10-30  373554033.0     81.0   \n",
       "1   1995-12-15  262797249.0    104.0   \n",
       "2   1995-12-22          0.0    101.0   \n",
       "3   1995-12-22   81452156.0    127.0   \n",
       "4   1995-02-10   76578911.0    106.0   \n",
       "\n",
       "                                    spoken_languages  vote_average  vote_count  \n",
       "0           [{'iso_639_1': 'en', 'name': 'English'}]           7.7      5415.0  \n",
       "1  [{'iso_639_1': 'en', 'name': 'English'}, {'iso...           6.9      2413.0  \n",
       "2           [{'iso_639_1': 'en', 'name': 'English'}]           6.5        92.0  \n",
       "3           [{'iso_639_1': 'en', 'name': 'English'}]           6.1        34.0  \n",
       "4           [{'iso_639_1': 'en', 'name': 'English'}]           5.7       173.0  "
      ]
     },
     "execution_count": 13,
     "metadata": {},
     "output_type": "execute_result"
    }
   ],
   "source": [
    "df.head()\n",
    "\n",
    "# now i am gonna transfer some columns: \n",
    "# genres,production_countries,spoken_languages, release_date"
   ]
  },
  {
   "cell_type": "markdown",
   "metadata": {
    "slideshow": {
     "slide_type": "subslide"
    }
   },
   "source": [
    "##  converting str to list:\n",
    "genres,production_countries,spoken_languages"
   ]
  },
  {
   "cell_type": "code",
   "execution_count": 14,
   "metadata": {
    "slideshow": {
     "slide_type": "skip"
    }
   },
   "outputs": [],
   "source": [
    "# converting genres str to list\n",
    "import ast \n",
    "\n",
    "def convert_to_list(string):\n",
    "    for row_index, row in df.iterrows():\n",
    "        df.at[row_index, string] = ast.literal_eval(row[string])"
   ]
  },
  {
   "cell_type": "code",
   "execution_count": 15,
   "metadata": {
    "slideshow": {
     "slide_type": "skip"
    }
   },
   "outputs": [
    {
     "name": "stdout",
     "output_type": "stream",
     "text": [
      "<class 'pandas.core.frame.DataFrame'>\n",
      "Int64Index: 44058 entries, 0 to 45465\n",
      "Data columns (total 10 columns):\n",
      " #   Column                Non-Null Count  Dtype  \n",
      "---  ------                --------------  -----  \n",
      " 0   genres1               44058 non-null  object \n",
      " 1   budget                44058 non-null  object \n",
      " 2   original_language     44058 non-null  object \n",
      " 3   production_countries  44058 non-null  object \n",
      " 4   release_date          44058 non-null  object \n",
      " 5   revenue               44058 non-null  float64\n",
      " 6   runtime               44058 non-null  float64\n",
      " 7   spoken_languages      44058 non-null  object \n",
      " 8   vote_average          44058 non-null  float64\n",
      " 9   vote_count            44058 non-null  float64\n",
      "dtypes: float64(4), object(6)\n",
      "memory usage: 4.9+ MB\n"
     ]
    }
   ],
   "source": [
    "convert_to_list('genres')\n",
    "\n",
    "# now only extract the genres name\n",
    "\n",
    "genres1 = []\n",
    "for row_index, row in df['genres'].iteritems():\n",
    "    genres = []\n",
    "    for i in row:\n",
    "        names = i['name']\n",
    "        genres.append(names)\n",
    "    genres1.append(genres)\n",
    "    \n",
    "df.insert(0, \"genres1\", genres1, True)\n",
    "\n",
    "df.drop(['genres'],axis=1,inplace=True)\n",
    "df.info()"
   ]
  },
  {
   "cell_type": "code",
   "execution_count": 16,
   "metadata": {
    "slideshow": {
     "slide_type": "skip"
    }
   },
   "outputs": [
    {
     "name": "stdout",
     "output_type": "stream",
     "text": [
      "<class 'pandas.core.frame.DataFrame'>\n",
      "Int64Index: 44058 entries, 0 to 45465\n",
      "Data columns (total 10 columns):\n",
      " #   Column             Non-Null Count  Dtype  \n",
      "---  ------             --------------  -----  \n",
      " 0   prod_country       44058 non-null  object \n",
      " 1   genres1            44058 non-null  object \n",
      " 2   budget             44058 non-null  object \n",
      " 3   original_language  44058 non-null  object \n",
      " 4   release_date       44058 non-null  object \n",
      " 5   revenue            44058 non-null  float64\n",
      " 6   runtime            44058 non-null  float64\n",
      " 7   spoken_languages   44058 non-null  object \n",
      " 8   vote_average       44058 non-null  float64\n",
      " 9   vote_count         44058 non-null  float64\n",
      "dtypes: float64(4), object(6)\n",
      "memory usage: 4.9+ MB\n"
     ]
    }
   ],
   "source": [
    "# do the sanem for production_countries\n",
    "convert_to_list('production_countries')\n",
    "\n",
    "prod_country = []\n",
    "for row_index, row in df['production_countries'].iteritems():\n",
    "    production_countries = []\n",
    "    for i in row:\n",
    "        names = i['name']\n",
    "        production_countries.append(names)\n",
    "    prod_country.append(production_countries)\n",
    "    \n",
    "\n",
    "\n",
    "df.insert(0, \"prod_country\", prod_country, True)\n",
    "df.drop(['production_countries'], axis=1,inplace=True)\n",
    "df.info()"
   ]
  },
  {
   "cell_type": "code",
   "execution_count": 17,
   "metadata": {
    "slideshow": {
     "slide_type": "skip"
    }
   },
   "outputs": [
    {
     "name": "stdout",
     "output_type": "stream",
     "text": [
      "<class 'pandas.core.frame.DataFrame'>\n",
      "Int64Index: 44058 entries, 0 to 45465\n",
      "Data columns (total 10 columns):\n",
      " #   Column             Non-Null Count  Dtype  \n",
      "---  ------             --------------  -----  \n",
      " 0   languages          44058 non-null  object \n",
      " 1   prod_country       44058 non-null  object \n",
      " 2   genres1            44058 non-null  object \n",
      " 3   budget             44058 non-null  object \n",
      " 4   original_language  44058 non-null  object \n",
      " 5   release_date       44058 non-null  object \n",
      " 6   revenue            44058 non-null  float64\n",
      " 7   runtime            44058 non-null  float64\n",
      " 8   vote_average       44058 non-null  float64\n",
      " 9   vote_count         44058 non-null  float64\n",
      "dtypes: float64(4), object(6)\n",
      "memory usage: 4.9+ MB\n"
     ]
    }
   ],
   "source": [
    "# do the same for spoken_languages\n",
    "\n",
    "convert_to_list('spoken_languages')\n",
    "\n",
    "languages = []\n",
    "for row_index, row in df['spoken_languages'].iteritems():\n",
    "    spoken_languages = []\n",
    "    for i in row:\n",
    "        names = i['name']\n",
    "        spoken_languages.append(names)\n",
    "    languages.append(spoken_languages)\n",
    "    \n",
    "\n",
    "\n",
    "df.insert(0, \"languages\", languages, True)\n",
    "df.drop(['spoken_languages'], axis=1,inplace=True)\n",
    "df.info()"
   ]
  },
  {
   "cell_type": "markdown",
   "metadata": {
    "slideshow": {
     "slide_type": "subslide"
    }
   },
   "source": [
    "## also convert 'release_date'(Y-M-D) to 'year'"
   ]
  },
  {
   "cell_type": "code",
   "execution_count": 18,
   "metadata": {
    "slideshow": {
     "slide_type": "skip"
    }
   },
   "outputs": [
    {
     "name": "stdout",
     "output_type": "stream",
     "text": [
      "<class 'pandas.core.frame.DataFrame'>\n",
      "Int64Index: 44058 entries, 0 to 45465\n",
      "Data columns (total 10 columns):\n",
      " #   Column             Non-Null Count  Dtype  \n",
      "---  ------             --------------  -----  \n",
      " 0   languages          44058 non-null  object \n",
      " 1   prod_country       44058 non-null  object \n",
      " 2   genres1            44058 non-null  object \n",
      " 3   budget             44058 non-null  object \n",
      " 4   original_language  44058 non-null  object \n",
      " 5   revenue            44058 non-null  float64\n",
      " 6   runtime            44058 non-null  float64\n",
      " 7   vote_average       44058 non-null  float64\n",
      " 8   vote_count         44058 non-null  float64\n",
      " 9   year               44058 non-null  int64  \n",
      "dtypes: float64(4), int64(1), object(5)\n",
      "memory usage: 3.7+ MB\n"
     ]
    }
   ],
   "source": [
    "# Now Let's convert 'release_date' to 'year'\n",
    "\n",
    "from datetime import datetime\n",
    "df.dropna(axis=0,  inplace=True)\n",
    "df['release_date'] = pd.to_datetime(df['release_date'], format='%Y-%m-%d')\n",
    "\n",
    "df['year']= pd.to_datetime(df['release_date'], format='%Y-%m-%d').dt.year\n",
    "df.drop(['release_date'], axis=1,inplace=True)\n",
    "df.info()"
   ]
  },
  {
   "cell_type": "code",
   "execution_count": 19,
   "metadata": {
    "slideshow": {
     "slide_type": "subslide"
    }
   },
   "outputs": [
    {
     "data": {
      "text/html": [
       "<div>\n",
       "<style scoped>\n",
       "    .dataframe tbody tr th:only-of-type {\n",
       "        vertical-align: middle;\n",
       "    }\n",
       "\n",
       "    .dataframe tbody tr th {\n",
       "        vertical-align: top;\n",
       "    }\n",
       "\n",
       "    .dataframe thead th {\n",
       "        text-align: right;\n",
       "    }\n",
       "</style>\n",
       "<table border=\"1\" class=\"dataframe\">\n",
       "  <thead>\n",
       "    <tr style=\"text-align: right;\">\n",
       "      <th></th>\n",
       "      <th>languages</th>\n",
       "      <th>prod_country</th>\n",
       "      <th>genres1</th>\n",
       "      <th>budget</th>\n",
       "      <th>original_language</th>\n",
       "      <th>revenue</th>\n",
       "      <th>runtime</th>\n",
       "      <th>vote_average</th>\n",
       "      <th>vote_count</th>\n",
       "      <th>year</th>\n",
       "    </tr>\n",
       "  </thead>\n",
       "  <tbody>\n",
       "    <tr>\n",
       "      <th>0</th>\n",
       "      <td>[English]</td>\n",
       "      <td>[United States of America]</td>\n",
       "      <td>[Animation, Comedy, Family]</td>\n",
       "      <td>30000000</td>\n",
       "      <td>en</td>\n",
       "      <td>373554033.0</td>\n",
       "      <td>81.0</td>\n",
       "      <td>7.7</td>\n",
       "      <td>5415.0</td>\n",
       "      <td>1995</td>\n",
       "    </tr>\n",
       "    <tr>\n",
       "      <th>1</th>\n",
       "      <td>[English, Français]</td>\n",
       "      <td>[United States of America]</td>\n",
       "      <td>[Adventure, Fantasy, Family]</td>\n",
       "      <td>65000000</td>\n",
       "      <td>en</td>\n",
       "      <td>262797249.0</td>\n",
       "      <td>104.0</td>\n",
       "      <td>6.9</td>\n",
       "      <td>2413.0</td>\n",
       "      <td>1995</td>\n",
       "    </tr>\n",
       "    <tr>\n",
       "      <th>2</th>\n",
       "      <td>[English]</td>\n",
       "      <td>[United States of America]</td>\n",
       "      <td>[Romance, Comedy]</td>\n",
       "      <td>0</td>\n",
       "      <td>en</td>\n",
       "      <td>0.0</td>\n",
       "      <td>101.0</td>\n",
       "      <td>6.5</td>\n",
       "      <td>92.0</td>\n",
       "      <td>1995</td>\n",
       "    </tr>\n",
       "    <tr>\n",
       "      <th>3</th>\n",
       "      <td>[English]</td>\n",
       "      <td>[United States of America]</td>\n",
       "      <td>[Comedy, Drama, Romance]</td>\n",
       "      <td>16000000</td>\n",
       "      <td>en</td>\n",
       "      <td>81452156.0</td>\n",
       "      <td>127.0</td>\n",
       "      <td>6.1</td>\n",
       "      <td>34.0</td>\n",
       "      <td>1995</td>\n",
       "    </tr>\n",
       "    <tr>\n",
       "      <th>4</th>\n",
       "      <td>[English]</td>\n",
       "      <td>[United States of America]</td>\n",
       "      <td>[Comedy]</td>\n",
       "      <td>0</td>\n",
       "      <td>en</td>\n",
       "      <td>76578911.0</td>\n",
       "      <td>106.0</td>\n",
       "      <td>5.7</td>\n",
       "      <td>173.0</td>\n",
       "      <td>1995</td>\n",
       "    </tr>\n",
       "  </tbody>\n",
       "</table>\n",
       "</div>"
      ],
      "text/plain": [
       "             languages                prod_country  \\\n",
       "0            [English]  [United States of America]   \n",
       "1  [English, Français]  [United States of America]   \n",
       "2            [English]  [United States of America]   \n",
       "3            [English]  [United States of America]   \n",
       "4            [English]  [United States of America]   \n",
       "\n",
       "                        genres1    budget original_language      revenue  \\\n",
       "0   [Animation, Comedy, Family]  30000000                en  373554033.0   \n",
       "1  [Adventure, Fantasy, Family]  65000000                en  262797249.0   \n",
       "2             [Romance, Comedy]         0                en          0.0   \n",
       "3      [Comedy, Drama, Romance]  16000000                en   81452156.0   \n",
       "4                      [Comedy]         0                en   76578911.0   \n",
       "\n",
       "   runtime  vote_average  vote_count  year  \n",
       "0     81.0           7.7      5415.0  1995  \n",
       "1    104.0           6.9      2413.0  1995  \n",
       "2    101.0           6.5        92.0  1995  \n",
       "3    127.0           6.1        34.0  1995  \n",
       "4    106.0           5.7       173.0  1995  "
      ]
     },
     "execution_count": 19,
     "metadata": {},
     "output_type": "execute_result"
    }
   ],
   "source": [
    "# now we have clean data\n",
    "df.head()"
   ]
  },
  {
   "cell_type": "markdown",
   "metadata": {
    "slideshow": {
     "slide_type": "subslide"
    }
   },
   "source": [
    "## MultiLabelBinarizer :\n",
    "languages, prod_country, genres1 - since the data type is list and each list varies in length\n",
    "\n",
    "## one hot encoding:\n",
    "original_language"
   ]
  },
  {
   "cell_type": "code",
   "execution_count": 20,
   "metadata": {
    "slideshow": {
     "slide_type": "skip"
    }
   },
   "outputs": [
    {
     "name": "stdout",
     "output_type": "stream",
     "text": [
      "<class 'pandas.core.frame.DataFrame'>\n",
      "Int64Index: 44058 entries, 0 to 45465\n",
      "Columns: 329 entries, budget to original_language_zu\n",
      "dtypes: float64(4), int32(235), int64(1), object(1), uint8(88)\n",
      "memory usage: 45.5+ MB\n"
     ]
    },
    {
     "data": {
      "text/html": [
       "<div>\n",
       "<style scoped>\n",
       "    .dataframe tbody tr th:only-of-type {\n",
       "        vertical-align: middle;\n",
       "    }\n",
       "\n",
       "    .dataframe tbody tr th {\n",
       "        vertical-align: top;\n",
       "    }\n",
       "\n",
       "    .dataframe thead th {\n",
       "        text-align: right;\n",
       "    }\n",
       "</style>\n",
       "<table border=\"1\" class=\"dataframe\">\n",
       "  <thead>\n",
       "    <tr style=\"text-align: right;\">\n",
       "      <th></th>\n",
       "      <th>budget</th>\n",
       "      <th>revenue</th>\n",
       "      <th>runtime</th>\n",
       "      <th>vote_average</th>\n",
       "      <th>vote_count</th>\n",
       "      <th>year</th>\n",
       "      <th></th>\n",
       "      <th>?????</th>\n",
       "      <th>??????</th>\n",
       "      <th>Afrikaans</th>\n",
       "      <th>...</th>\n",
       "      <th>original_language_tl</th>\n",
       "      <th>original_language_tr</th>\n",
       "      <th>original_language_uk</th>\n",
       "      <th>original_language_ur</th>\n",
       "      <th>original_language_uz</th>\n",
       "      <th>original_language_vi</th>\n",
       "      <th>original_language_wo</th>\n",
       "      <th>original_language_xx</th>\n",
       "      <th>original_language_zh</th>\n",
       "      <th>original_language_zu</th>\n",
       "    </tr>\n",
       "  </thead>\n",
       "  <tbody>\n",
       "    <tr>\n",
       "      <th>0</th>\n",
       "      <td>30000000</td>\n",
       "      <td>373554033.0</td>\n",
       "      <td>81.0</td>\n",
       "      <td>7.7</td>\n",
       "      <td>5415.0</td>\n",
       "      <td>1995</td>\n",
       "      <td>0</td>\n",
       "      <td>0</td>\n",
       "      <td>0</td>\n",
       "      <td>0</td>\n",
       "      <td>...</td>\n",
       "      <td>0</td>\n",
       "      <td>0</td>\n",
       "      <td>0</td>\n",
       "      <td>0</td>\n",
       "      <td>0</td>\n",
       "      <td>0</td>\n",
       "      <td>0</td>\n",
       "      <td>0</td>\n",
       "      <td>0</td>\n",
       "      <td>0</td>\n",
       "    </tr>\n",
       "    <tr>\n",
       "      <th>1</th>\n",
       "      <td>65000000</td>\n",
       "      <td>262797249.0</td>\n",
       "      <td>104.0</td>\n",
       "      <td>6.9</td>\n",
       "      <td>2413.0</td>\n",
       "      <td>1995</td>\n",
       "      <td>0</td>\n",
       "      <td>0</td>\n",
       "      <td>0</td>\n",
       "      <td>0</td>\n",
       "      <td>...</td>\n",
       "      <td>0</td>\n",
       "      <td>0</td>\n",
       "      <td>0</td>\n",
       "      <td>0</td>\n",
       "      <td>0</td>\n",
       "      <td>0</td>\n",
       "      <td>0</td>\n",
       "      <td>0</td>\n",
       "      <td>0</td>\n",
       "      <td>0</td>\n",
       "    </tr>\n",
       "    <tr>\n",
       "      <th>2</th>\n",
       "      <td>0</td>\n",
       "      <td>0.0</td>\n",
       "      <td>101.0</td>\n",
       "      <td>6.5</td>\n",
       "      <td>92.0</td>\n",
       "      <td>1995</td>\n",
       "      <td>0</td>\n",
       "      <td>0</td>\n",
       "      <td>0</td>\n",
       "      <td>0</td>\n",
       "      <td>...</td>\n",
       "      <td>0</td>\n",
       "      <td>0</td>\n",
       "      <td>0</td>\n",
       "      <td>0</td>\n",
       "      <td>0</td>\n",
       "      <td>0</td>\n",
       "      <td>0</td>\n",
       "      <td>0</td>\n",
       "      <td>0</td>\n",
       "      <td>0</td>\n",
       "    </tr>\n",
       "    <tr>\n",
       "      <th>3</th>\n",
       "      <td>16000000</td>\n",
       "      <td>81452156.0</td>\n",
       "      <td>127.0</td>\n",
       "      <td>6.1</td>\n",
       "      <td>34.0</td>\n",
       "      <td>1995</td>\n",
       "      <td>0</td>\n",
       "      <td>0</td>\n",
       "      <td>0</td>\n",
       "      <td>0</td>\n",
       "      <td>...</td>\n",
       "      <td>0</td>\n",
       "      <td>0</td>\n",
       "      <td>0</td>\n",
       "      <td>0</td>\n",
       "      <td>0</td>\n",
       "      <td>0</td>\n",
       "      <td>0</td>\n",
       "      <td>0</td>\n",
       "      <td>0</td>\n",
       "      <td>0</td>\n",
       "    </tr>\n",
       "    <tr>\n",
       "      <th>4</th>\n",
       "      <td>0</td>\n",
       "      <td>76578911.0</td>\n",
       "      <td>106.0</td>\n",
       "      <td>5.7</td>\n",
       "      <td>173.0</td>\n",
       "      <td>1995</td>\n",
       "      <td>0</td>\n",
       "      <td>0</td>\n",
       "      <td>0</td>\n",
       "      <td>0</td>\n",
       "      <td>...</td>\n",
       "      <td>0</td>\n",
       "      <td>0</td>\n",
       "      <td>0</td>\n",
       "      <td>0</td>\n",
       "      <td>0</td>\n",
       "      <td>0</td>\n",
       "      <td>0</td>\n",
       "      <td>0</td>\n",
       "      <td>0</td>\n",
       "      <td>0</td>\n",
       "    </tr>\n",
       "  </tbody>\n",
       "</table>\n",
       "<p>5 rows × 329 columns</p>\n",
       "</div>"
      ],
      "text/plain": [
       "     budget      revenue  runtime  vote_average  vote_count  year     ?????  \\\n",
       "0  30000000  373554033.0     81.0           7.7      5415.0  1995  0      0   \n",
       "1  65000000  262797249.0    104.0           6.9      2413.0  1995  0      0   \n",
       "2         0          0.0    101.0           6.5        92.0  1995  0      0   \n",
       "3  16000000   81452156.0    127.0           6.1        34.0  1995  0      0   \n",
       "4         0   76578911.0    106.0           5.7       173.0  1995  0      0   \n",
       "\n",
       "   ??????  Afrikaans  ...  original_language_tl  original_language_tr  \\\n",
       "0       0          0  ...                     0                     0   \n",
       "1       0          0  ...                     0                     0   \n",
       "2       0          0  ...                     0                     0   \n",
       "3       0          0  ...                     0                     0   \n",
       "4       0          0  ...                     0                     0   \n",
       "\n",
       "   original_language_uk  original_language_ur  original_language_uz  \\\n",
       "0                     0                     0                     0   \n",
       "1                     0                     0                     0   \n",
       "2                     0                     0                     0   \n",
       "3                     0                     0                     0   \n",
       "4                     0                     0                     0   \n",
       "\n",
       "   original_language_vi  original_language_wo  original_language_xx  \\\n",
       "0                     0                     0                     0   \n",
       "1                     0                     0                     0   \n",
       "2                     0                     0                     0   \n",
       "3                     0                     0                     0   \n",
       "4                     0                     0                     0   \n",
       "\n",
       "   original_language_zh  original_language_zu  \n",
       "0                     0                     0  \n",
       "1                     0                     0  \n",
       "2                     0                     0  \n",
       "3                     0                     0  \n",
       "4                     0                     0  \n",
       "\n",
       "[5 rows x 329 columns]"
      ]
     },
     "execution_count": 20,
     "metadata": {},
     "output_type": "execute_result"
    }
   ],
   "source": [
    "# languages/prod_country/genres1: \n",
    "# since the value is a list, instead of dummy transfer, i have to use\n",
    "# MultiLabelBinarizer\n",
    "\n",
    "from sklearn.preprocessing import MultiLabelBinarizer\n",
    "\n",
    "l = df['languages'] \n",
    "p_c = df['prod_country'] \n",
    "g = df['genres1'] \n",
    "\n",
    "mlb = MultiLabelBinarizer()\n",
    "\n",
    "df1=pd.DataFrame(mlb.fit_transform(l),columns=mlb.classes_, index=df.index)\n",
    "df2=pd.DataFrame(mlb.fit_transform(p_c),columns=mlb.classes_, index=df.index)\n",
    "df3=pd.DataFrame(mlb.fit_transform(g),columns=mlb.classes_, index=df.index)\n",
    "\n",
    "df_new=pd.concat([df,df1,df2],axis=1)\n",
    "\n",
    "\n",
    "df_new.drop(['languages','prod_country','genres1'],axis=1,inplace=True)\n",
    "\n",
    "\n",
    "# one hot encoding original_language:\n",
    "df_new = pd.concat([df_new, pd.get_dummies(df_new[\"original_language\"], prefix=\"original_language\", drop_first=True)], axis=1)\n",
    "df_new.drop(['original_language'],axis=1,inplace=True)\n",
    "\n",
    "df_new.info()\n",
    "df_new.head()\n"
   ]
  },
  {
   "cell_type": "code",
   "execution_count": 21,
   "metadata": {
    "slideshow": {
     "slide_type": "subslide"
    }
   },
   "outputs": [
    {
     "data": {
      "text/html": [
       "<div>\n",
       "<style scoped>\n",
       "    .dataframe tbody tr th:only-of-type {\n",
       "        vertical-align: middle;\n",
       "    }\n",
       "\n",
       "    .dataframe tbody tr th {\n",
       "        vertical-align: top;\n",
       "    }\n",
       "\n",
       "    .dataframe thead th {\n",
       "        text-align: right;\n",
       "    }\n",
       "</style>\n",
       "<table border=\"1\" class=\"dataframe\">\n",
       "  <thead>\n",
       "    <tr style=\"text-align: right;\">\n",
       "      <th></th>\n",
       "      <th>budget</th>\n",
       "      <th>revenue</th>\n",
       "      <th>runtime</th>\n",
       "      <th>vote_average</th>\n",
       "      <th>vote_count</th>\n",
       "      <th>year</th>\n",
       "      <th></th>\n",
       "      <th>?????</th>\n",
       "      <th>??????</th>\n",
       "      <th>Afrikaans</th>\n",
       "      <th>...</th>\n",
       "      <th>original_language_tl</th>\n",
       "      <th>original_language_tr</th>\n",
       "      <th>original_language_uk</th>\n",
       "      <th>original_language_ur</th>\n",
       "      <th>original_language_uz</th>\n",
       "      <th>original_language_vi</th>\n",
       "      <th>original_language_wo</th>\n",
       "      <th>original_language_xx</th>\n",
       "      <th>original_language_zh</th>\n",
       "      <th>original_language_zu</th>\n",
       "    </tr>\n",
       "  </thead>\n",
       "  <tbody>\n",
       "    <tr>\n",
       "      <th>0</th>\n",
       "      <td>30000000</td>\n",
       "      <td>373554033.0</td>\n",
       "      <td>81.0</td>\n",
       "      <td>7.7</td>\n",
       "      <td>5415.0</td>\n",
       "      <td>1995</td>\n",
       "      <td>0</td>\n",
       "      <td>0</td>\n",
       "      <td>0</td>\n",
       "      <td>0</td>\n",
       "      <td>...</td>\n",
       "      <td>0</td>\n",
       "      <td>0</td>\n",
       "      <td>0</td>\n",
       "      <td>0</td>\n",
       "      <td>0</td>\n",
       "      <td>0</td>\n",
       "      <td>0</td>\n",
       "      <td>0</td>\n",
       "      <td>0</td>\n",
       "      <td>0</td>\n",
       "    </tr>\n",
       "    <tr>\n",
       "      <th>1</th>\n",
       "      <td>65000000</td>\n",
       "      <td>262797249.0</td>\n",
       "      <td>104.0</td>\n",
       "      <td>6.9</td>\n",
       "      <td>2413.0</td>\n",
       "      <td>1995</td>\n",
       "      <td>0</td>\n",
       "      <td>0</td>\n",
       "      <td>0</td>\n",
       "      <td>0</td>\n",
       "      <td>...</td>\n",
       "      <td>0</td>\n",
       "      <td>0</td>\n",
       "      <td>0</td>\n",
       "      <td>0</td>\n",
       "      <td>0</td>\n",
       "      <td>0</td>\n",
       "      <td>0</td>\n",
       "      <td>0</td>\n",
       "      <td>0</td>\n",
       "      <td>0</td>\n",
       "    </tr>\n",
       "    <tr>\n",
       "      <th>2</th>\n",
       "      <td>0</td>\n",
       "      <td>0.0</td>\n",
       "      <td>101.0</td>\n",
       "      <td>6.5</td>\n",
       "      <td>92.0</td>\n",
       "      <td>1995</td>\n",
       "      <td>0</td>\n",
       "      <td>0</td>\n",
       "      <td>0</td>\n",
       "      <td>0</td>\n",
       "      <td>...</td>\n",
       "      <td>0</td>\n",
       "      <td>0</td>\n",
       "      <td>0</td>\n",
       "      <td>0</td>\n",
       "      <td>0</td>\n",
       "      <td>0</td>\n",
       "      <td>0</td>\n",
       "      <td>0</td>\n",
       "      <td>0</td>\n",
       "      <td>0</td>\n",
       "    </tr>\n",
       "    <tr>\n",
       "      <th>3</th>\n",
       "      <td>16000000</td>\n",
       "      <td>81452156.0</td>\n",
       "      <td>127.0</td>\n",
       "      <td>6.1</td>\n",
       "      <td>34.0</td>\n",
       "      <td>1995</td>\n",
       "      <td>0</td>\n",
       "      <td>0</td>\n",
       "      <td>0</td>\n",
       "      <td>0</td>\n",
       "      <td>...</td>\n",
       "      <td>0</td>\n",
       "      <td>0</td>\n",
       "      <td>0</td>\n",
       "      <td>0</td>\n",
       "      <td>0</td>\n",
       "      <td>0</td>\n",
       "      <td>0</td>\n",
       "      <td>0</td>\n",
       "      <td>0</td>\n",
       "      <td>0</td>\n",
       "    </tr>\n",
       "    <tr>\n",
       "      <th>4</th>\n",
       "      <td>0</td>\n",
       "      <td>76578911.0</td>\n",
       "      <td>106.0</td>\n",
       "      <td>5.7</td>\n",
       "      <td>173.0</td>\n",
       "      <td>1995</td>\n",
       "      <td>0</td>\n",
       "      <td>0</td>\n",
       "      <td>0</td>\n",
       "      <td>0</td>\n",
       "      <td>...</td>\n",
       "      <td>0</td>\n",
       "      <td>0</td>\n",
       "      <td>0</td>\n",
       "      <td>0</td>\n",
       "      <td>0</td>\n",
       "      <td>0</td>\n",
       "      <td>0</td>\n",
       "      <td>0</td>\n",
       "      <td>0</td>\n",
       "      <td>0</td>\n",
       "    </tr>\n",
       "  </tbody>\n",
       "</table>\n",
       "<p>5 rows × 329 columns</p>\n",
       "</div>"
      ],
      "text/plain": [
       "     budget      revenue  runtime  vote_average  vote_count  year     ?????  \\\n",
       "0  30000000  373554033.0     81.0           7.7      5415.0  1995  0      0   \n",
       "1  65000000  262797249.0    104.0           6.9      2413.0  1995  0      0   \n",
       "2         0          0.0    101.0           6.5        92.0  1995  0      0   \n",
       "3  16000000   81452156.0    127.0           6.1        34.0  1995  0      0   \n",
       "4         0   76578911.0    106.0           5.7       173.0  1995  0      0   \n",
       "\n",
       "   ??????  Afrikaans  ...  original_language_tl  original_language_tr  \\\n",
       "0       0          0  ...                     0                     0   \n",
       "1       0          0  ...                     0                     0   \n",
       "2       0          0  ...                     0                     0   \n",
       "3       0          0  ...                     0                     0   \n",
       "4       0          0  ...                     0                     0   \n",
       "\n",
       "   original_language_uk  original_language_ur  original_language_uz  \\\n",
       "0                     0                     0                     0   \n",
       "1                     0                     0                     0   \n",
       "2                     0                     0                     0   \n",
       "3                     0                     0                     0   \n",
       "4                     0                     0                     0   \n",
       "\n",
       "   original_language_vi  original_language_wo  original_language_xx  \\\n",
       "0                     0                     0                     0   \n",
       "1                     0                     0                     0   \n",
       "2                     0                     0                     0   \n",
       "3                     0                     0                     0   \n",
       "4                     0                     0                     0   \n",
       "\n",
       "   original_language_zh  original_language_zu  \n",
       "0                     0                     0  \n",
       "1                     0                     0  \n",
       "2                     0                     0  \n",
       "3                     0                     0  \n",
       "4                     0                     0  \n",
       "\n",
       "[5 rows x 329 columns]"
      ]
     },
     "execution_count": 21,
     "metadata": {},
     "output_type": "execute_result"
    }
   ],
   "source": [
    "df_new.head()"
   ]
  },
  {
   "cell_type": "code",
   "execution_count": 22,
   "metadata": {
    "slideshow": {
     "slide_type": "subslide"
    }
   },
   "outputs": [
    {
     "data": {
      "text/plain": [
       "(44058, 329)"
      ]
     },
     "execution_count": 22,
     "metadata": {},
     "output_type": "execute_result"
    }
   ],
   "source": [
    "# Standartizing Data for dimensionality reduction \n",
    "\n",
    "from sklearn.preprocessing import StandardScaler\n",
    "df_scaler = StandardScaler().fit_transform(df_new)\n",
    "\n",
    "df_scaler.shape"
   ]
  },
  {
   "cell_type": "markdown",
   "metadata": {
    "slideshow": {
     "slide_type": "slide"
    }
   },
   "source": [
    "# Apply dimensionality reduction techniques "
   ]
  },
  {
   "cell_type": "markdown",
   "metadata": {
    "slideshow": {
     "slide_type": "subslide"
    }
   },
   "source": [
    "## PCA"
   ]
  },
  {
   "cell_type": "code",
   "execution_count": 23,
   "metadata": {
    "slideshow": {
     "slide_type": "skip"
    }
   },
   "outputs": [],
   "source": [
    "# PCA\n",
    "from sklearn.decomposition import PCA\n",
    "import time\n",
    "time_start = time.time()\n",
    "\n",
    "pca = PCA(n_components=50)\n",
    "pca_components = pca.fit_transform(df_scaler)\n"
   ]
  },
  {
   "cell_type": "code",
   "execution_count": 25,
   "metadata": {
    "slideshow": {
     "slide_type": "subslide"
    }
   },
   "outputs": [
    {
     "name": "stdout",
     "output_type": "stream",
     "text": [
      "The percentage of total variance in the dataset explained by each component from Sklearn PCA.\n",
      " [0.0123658  0.00999062 0.00955468 0.00927373 0.00904953 0.00884359\n",
      " 0.00869343 0.00851805 0.00847117 0.00824986 0.00809818 0.00795117\n",
      " 0.00782611 0.00772446 0.00767976 0.00761332 0.00753029 0.00746224\n",
      " 0.00740326 0.00736496 0.00731271 0.00721563 0.00720576 0.0071467\n",
      " 0.00709578 0.00706531 0.00698655 0.00694011 0.00690237 0.00682013\n",
      " 0.00673396 0.0066865  0.00656636 0.00637963 0.00627981 0.00623237\n",
      " 0.00621529 0.00614458 0.00602258 0.00601482 0.0059897  0.00591791\n",
      " 0.00585853 0.00578655 0.00573591 0.00565343 0.00560541 0.00551448\n",
      " 0.0054547  0.00543492]\n",
      "Time elapsed: 51.505197525024414 seconds\n"
     ]
    }
   ],
   "source": [
    "print(\n",
    "    'The percentage of total variance in the dataset explained by each',\n",
    "    'component from Sklearn PCA.\\n',\n",
    "    pca.explained_variance_ratio_\n",
    ")\n",
    "\n",
    "print('Time elapsed: {} seconds'.format(time.time()-time_start))\n",
    "\n"
   ]
  },
  {
   "cell_type": "code",
   "execution_count": 26,
   "metadata": {
    "slideshow": {
     "slide_type": "subslide"
    }
   },
   "outputs": [
    {
     "data": {
      "image/png": "[encoded data removed]",
      "text/plain": [
       "<Figure size 720x360 with 1 Axes>"
      ]
     },
     "metadata": {},
     "output_type": "display_data"
    }
   ],
   "source": [
    "plt.figure(figsize=(10,5))\n",
    "plt.scatter(pca_components[:, 0], pca_components[:, 1])\n",
    "plt.xticks([])\n",
    "plt.yticks([])\n",
    "plt.axis('off')\n",
    "plt.show()\n",
    "\n",
    "# the results are not very well even tho the speed is fast"
   ]
  },
  {
   "cell_type": "markdown",
   "metadata": {
    "slideshow": {
     "slide_type": "subslide"
    }
   },
   "source": [
    "## UMAP"
   ]
  },
  {
   "cell_type": "code",
   "execution_count": 27,
   "metadata": {
    "slideshow": {
     "slide_type": "skip"
    }
   },
   "outputs": [],
   "source": [
    "# will not use t-SNE due to large datasets\n",
    "\n",
    "# UMAP\n",
    "# try n_neighbors 10, 20, 30, 40, 50, 60, 70, 80, 90, 100\n",
    "# 90,100 looks the best\n",
    "\n",
    "import umap\n",
    "\n",
    "time_start = time.time()\n",
    "\n",
    "umap_results = umap.UMAP(n_neighbors=100,\n",
    "                      min_dist=0.3,\n",
    "                      metric='correlation').fit_transform(df_scaler)\n"
   ]
  },
  {
   "cell_type": "markdown",
   "metadata": {
    "slideshow": {
     "slide_type": "subslide"
    }
   },
   "source": [
    "## Try n_neighbors 10, 20, 30, 40, 50, 60, 70, 80, 90, 100\n",
    "## 90,100 looks the best"
   ]
  },
  {
   "cell_type": "code",
   "execution_count": 28,
   "metadata": {
    "slideshow": {
     "slide_type": "subslide"
    }
   },
   "outputs": [
    {
     "name": "stdout",
     "output_type": "stream",
     "text": [
      "Time elapsed: 326.72703194618225 seconds\n"
     ]
    },
    {
     "data": {
      "image/png": "[encoded data removed]",
      "text/plain": [
       "<Figure size 720x360 with 1 Axes>"
      ]
     },
     "metadata": {},
     "output_type": "display_data"
    },
    {
     "data": {
      "text/plain": [
       "array([-12.847534, -12.820671, -12.81818 , ...,  29.263636,  29.264069,\n",
       "        29.280247], dtype=float32)"
      ]
     },
     "execution_count": 28,
     "metadata": {},
     "output_type": "execute_result"
    }
   ],
   "source": [
    "print('Time elapsed: {} seconds'.format(time.time()-time_start))\n",
    "\n",
    "plt.figure(figsize=(10,5))\n",
    "plt.scatter(umap_results[:, 0], umap_results[:, 1])\n",
    "plt.xticks([])\n",
    "plt.yticks([])\n",
    "plt.axis('off')\n",
    "plt.show()\n",
    "\n",
    "np.unique(umap_results)\n"
   ]
  },
  {
   "cell_type": "markdown",
   "metadata": {
    "slideshow": {
     "slide_type": "subslide"
    }
   },
   "source": [
    "## The reduction result of UMAP is better than PCA, even tho it takes longer to run"
   ]
  },
  {
   "cell_type": "markdown",
   "metadata": {
    "slideshow": {
     "slide_type": "slide"
    }
   },
   "source": [
    "# Apply clustering techniques "
   ]
  },
  {
   "cell_type": "markdown",
   "metadata": {
    "slideshow": {
     "slide_type": "subslide"
    }
   },
   "source": [
    "## K means"
   ]
  },
  {
   "cell_type": "markdown",
   "metadata": {
    "slideshow": {
     "slide_type": "subslide"
    }
   },
   "source": [
    "### The elbow method:\n",
    "choose the point at which the plot starts descending much more slowly."
   ]
  },
  {
   "cell_type": "code",
   "execution_count": 187,
   "metadata": {
    "slideshow": {
     "slide_type": "subslide"
    }
   },
   "outputs": [
    {
     "data": {
      "image/png": "[encoded data removed]",
      "text/plain": [
       "<Figure size 432x288 with 1 Axes>"
      ]
     },
     "metadata": {
      "needs_background": "light"
     },
     "output_type": "display_data"
    }
   ],
   "source": [
    "from sklearn.cluster import KMeans\n",
    "\n",
    "Nc = range(1, 20)\n",
    "kmeans = [KMeans(n_clusters=i) for i in Nc]\n",
    "\n",
    "score = [kmeans[i].fit(df_scaler).score(df_scaler) for i in range(len(kmeans))]\n",
    "\n",
    "plt.plot(Nc,score)\n",
    "plt.xlabel('Number of Clusters')\n",
    "plt.ylabel('Score')\n",
    "plt.title('Elbow Curve')\n",
    "plt.show()\n",
    "\n",
    "\n",
    "# there isn't really a clear inflection point.\n"
   ]
  },
  {
   "cell_type": "code",
   "execution_count": 30,
   "metadata": {
    "slideshow": {
     "slide_type": "subslide"
    }
   },
   "outputs": [
    {
     "data": {
      "text/plain": [
       "(44058, 329)"
      ]
     },
     "execution_count": 30,
     "metadata": {},
     "output_type": "execute_result"
    }
   ],
   "source": [
    "# use MinMaxScaler instead\n",
    "\n",
    "from sklearn import preprocessing\n",
    "\n",
    "X_mm = preprocessing.MinMaxScaler().fit_transform(df_new)\n",
    "X_mm.shape"
   ]
  },
  {
   "cell_type": "code",
   "execution_count": 192,
   "metadata": {
    "slideshow": {
     "slide_type": "subslide"
    }
   },
   "outputs": [
    {
     "data": {
      "image/png": "[encoded data removed]",
      "text/plain": [
       "<Figure size 432x288 with 1 Axes>"
      ]
     },
     "metadata": {
      "needs_background": "light"
     },
     "output_type": "display_data"
    }
   ],
   "source": [
    "score = [kmeans[i].fit(X_mm).score(X_mm) for i in range(len(kmeans))]\n",
    "\n",
    "plt.plot(Nc,score)\n",
    "plt.xlabel('Number of Clusters')\n",
    "plt.ylabel('Score')\n",
    "plt.title('Elbow Curve')\n",
    "plt.show()"
   ]
  },
  {
   "cell_type": "markdown",
   "metadata": {
    "slideshow": {
     "slide_type": "subslide"
    }
   },
   "source": [
    "### we have a better elbow curve here\n",
    "### we will try Silhouette Method for 2-10 clusters"
   ]
  },
  {
   "cell_type": "markdown",
   "metadata": {
    "slideshow": {
     "slide_type": "subslide"
    }
   },
   "source": [
    "### The Silhouette Method\n",
    "The silhouette score ranges from -1 (a poor clustering) to +1 (a very dense clustering) with 0 denoting the situation where clusters overlap. \n"
   ]
  },
  {
   "cell_type": "code",
   "execution_count": 212,
   "metadata": {
    "slideshow": {
     "slide_type": "subslide"
    }
   },
   "outputs": [
    {
     "name": "stdout",
     "output_type": "stream",
     "text": [
      "For n_clusters=2, The Silhouette Coefficient is 0.3209664638649469\n"
     ]
    },
    {
     "data": {
      "image/png": "[encoded data removed]",
      "text/plain": [
       "<Figure size 432x288 with 1 Axes>"
      ]
     },
     "metadata": {
      "needs_background": "light"
     },
     "output_type": "display_data"
    },
    {
     "name": "stdout",
     "output_type": "stream",
     "text": [
      "For n_clusters=3, The Silhouette Coefficient is 0.2584544006920885\n"
     ]
    },
    {
     "data": {
      "image/png": "[encoded data removed]",
      "text/plain": [
       "<Figure size 432x288 with 1 Axes>"
      ]
     },
     "metadata": {
      "needs_background": "light"
     },
     "output_type": "display_data"
    },
    {
     "name": "stdout",
     "output_type": "stream",
     "text": [
      "For n_clusters=4, The Silhouette Coefficient is 0.27311354872170074\n"
     ]
    },
    {
     "data": {
      "image/png": "[encoded data removed]",
      "text/plain": [
       "<Figure size 432x288 with 1 Axes>"
      ]
     },
     "metadata": {
      "needs_background": "light"
     },
     "output_type": "display_data"
    },
    {
     "name": "stdout",
     "output_type": "stream",
     "text": [
      "For n_clusters=5, The Silhouette Coefficient is 0.310401732100693\n"
     ]
    },
    {
     "data": {
      "image/png": "[encoded data removed]",
      "text/plain": [
       "<Figure size 432x288 with 1 Axes>"
      ]
     },
     "metadata": {
      "needs_background": "light"
     },
     "output_type": "display_data"
    },
    {
     "name": "stdout",
     "output_type": "stream",
     "text": [
      "For n_clusters=6, The Silhouette Coefficient is 0.316202746717802\n"
     ]
    },
    {
     "data": {
      "image/png": "[encoded data removed]",
      "text/plain": [
       "<Figure size 432x288 with 1 Axes>"
      ]
     },
     "metadata": {
      "needs_background": "light"
     },
     "output_type": "display_data"
    },
    {
     "name": "stdout",
     "output_type": "stream",
     "text": [
      "For n_clusters=7, The Silhouette Coefficient is 0.3208804663660466\n"
     ]
    },
    {
     "data": {
      "image/png": "[encoded data removed]",
      "text/plain": [
       "<Figure size 432x288 with 1 Axes>"
      ]
     },
     "metadata": {
      "needs_background": "light"
     },
     "output_type": "display_data"
    },
    {
     "name": "stdout",
     "output_type": "stream",
     "text": [
      "For n_clusters=8, The Silhouette Coefficient is 0.32795514440033197\n"
     ]
    },
    {
     "data": {
      "image/png": "[encoded data removed]",
      "text/plain": [
       "<Figure size 432x288 with 1 Axes>"
      ]
     },
     "metadata": {
      "needs_background": "light"
     },
     "output_type": "display_data"
    },
    {
     "name": "stdout",
     "output_type": "stream",
     "text": [
      "For n_clusters=9, The Silhouette Coefficient is 0.3462600417204747\n"
     ]
    },
    {
     "data": {
      "image/png": "[encoded data removed]",
      "text/plain": [
       "<Figure size 432x288 with 1 Axes>"
      ]
     },
     "metadata": {
      "needs_background": "light"
     },
     "output_type": "display_data"
    }
   ],
   "source": [
    "# The Silhouette Method\n",
    "\n",
    "from sklearn import metrics\n",
    "\n",
    "for n_cluster in range(2, 10):\n",
    "    kmeans = KMeans(n_clusters=n_cluster,random_state=123).fit(X_mm)\n",
    "    y_pred = KMeans(n_clusters=n_cluster,random_state=123).fit_predict(X_mm)\n",
    "    label = kmeans.labels_\n",
    "    sil_coeff = metrics.silhouette_score(X_mm, y_pred, metric='euclidean')\n",
    "    print(\"For n_clusters={}, The Silhouette Coefficient is {}\".format(n_cluster, sil_coeff))\n",
    "    plt.scatter( umap_results[:, 0], umap_results[:, 1], c=y_pred)\n",
    "    plt.show()"
   ]
  },
  {
   "cell_type": "markdown",
   "metadata": {
    "slideshow": {
     "slide_type": "subslide"
    }
   },
   "source": [
    "We'll go with n_clusters=9, The Silhouette Coefficient is 0.34"
   ]
  },
  {
   "cell_type": "code",
   "execution_count": 213,
   "metadata": {
    "slideshow": {
     "slide_type": "skip"
    }
   },
   "outputs": [
    {
     "data": {
      "text/plain": [
       "array([0, 0, 0, ..., 0, 1, 4])"
      ]
     },
     "execution_count": 213,
     "metadata": {},
     "output_type": "execute_result"
    }
   ],
   "source": [
    "k_means = KMeans(n_clusters=9, random_state=123)\n",
    "k_means.fit(X_mm)\n",
    "clusters = k_means.predict(X_mm)\n",
    "clusters"
   ]
  },
  {
   "cell_type": "code",
   "execution_count": 214,
   "metadata": {
    "slideshow": {
     "slide_type": "skip"
    }
   },
   "outputs": [
    {
     "data": {
      "text/plain": [
       "array([0, 0, 0, ..., 0, 1, 4])"
      ]
     },
     "execution_count": 214,
     "metadata": {},
     "output_type": "execute_result"
    }
   ],
   "source": [
    "# k_means.labels_"
   ]
  },
  {
   "cell_type": "code",
   "execution_count": 215,
   "metadata": {
    "slideshow": {
     "slide_type": "subslide"
    }
   },
   "outputs": [
    {
     "data": {
      "text/plain": [
       "0    19744\n",
       "1     8897\n",
       "8     4867\n",
       "4     3929\n",
       "2     2402\n",
       "5     1427\n",
       "7     1366\n",
       "6      956\n",
       "3      470\n",
       "Name: cluster, dtype: int64"
      ]
     },
     "execution_count": 215,
     "metadata": {},
     "output_type": "execute_result"
    }
   ],
   "source": [
    "# lets take a look at the clusters\n",
    "\n",
    "df['cluster']=clusters\n",
    "df['cluster'].value_counts()\n"
   ]
  },
  {
   "cell_type": "markdown",
   "metadata": {
    "slideshow": {
     "slide_type": "skip"
    }
   },
   "source": [
    "from the clusters i see an imbalanced data cluster, but we ll explore this later"
   ]
  },
  {
   "cell_type": "markdown",
   "metadata": {
    "slideshow": {
     "slide_type": "subslide"
    }
   },
   "source": [
    "## Hierarchical clustering  "
   ]
  },
  {
   "cell_type": "code",
   "execution_count": 207,
   "metadata": {
    "slideshow": {
     "slide_type": "subslide"
    }
   },
   "outputs": [
    {
     "name": "stdout",
     "output_type": "stream",
     "text": [
      "9min 9s ± 48.4 s per loop (mean ± std. dev. of 7 runs, 1 loop each)\n",
      "[0 0 0 ... 0 0 0]\n"
     ]
    },
    {
     "data": {
      "image/png": "[encoded data removed]",
      "text/plain": [
       "<Figure size 432x288 with 1 Axes>"
      ]
     },
     "metadata": {
      "needs_background": "light"
     },
     "output_type": "display_data"
    },
    {
     "name": "stdout",
     "output_type": "stream",
     "text": [
      "The silhoutte score is: -0.3329411456998018\n"
     ]
    }
   ],
   "source": [
    "from sklearn.cluster import AgglomerativeClustering\n",
    "\n",
    "agg_cluster = AgglomerativeClustering(linkage='complete', \n",
    "                                      affinity='cosine',\n",
    "                                      n_clusters=2)\n",
    "%timeit agg_cluster.fit(df_scaler)\n",
    "\n",
    "clusters = agg_cluster.fit_predict(df_scaler)\n",
    "\n",
    "print(clusters)\n",
    "\n",
    "plt.scatter(umap_results[:,0], umap_results[:,1], c=clusters)\n",
    "plt.show()\n",
    "\n",
    "print(\"The silhoutte score is: {}\"\n",
    "      .format(metrics.silhouette_score(df_scaler, clusters, metric='euclidean')))"
   ]
  },
  {
   "cell_type": "code",
   "execution_count": null,
   "metadata": {
    "slideshow": {
     "slide_type": "skip"
    }
   },
   "outputs": [],
   "source": []
  },
  {
   "cell_type": "markdown",
   "metadata": {
    "slideshow": {
     "slide_type": "subslide"
    }
   },
   "source": [
    "## DBCAN"
   ]
  },
  {
   "cell_type": "code",
   "execution_count": 209,
   "metadata": {
    "slideshow": {
     "slide_type": "subslide"
    }
   },
   "outputs": [
    {
     "name": "stdout",
     "output_type": "stream",
     "text": [
      "17min 34s ± 17.2 s per loop (mean ± std. dev. of 7 runs, 1 loop each)\n"
     ]
    },
    {
     "data": {
      "image/png": "[encoded data removed]",
      "text/plain": [
       "<Figure size 432x288 with 1 Axes>"
      ]
     },
     "metadata": {
      "needs_background": "light"
     },
     "output_type": "display_data"
    },
    {
     "name": "stdout",
     "output_type": "stream",
     "text": [
      "The silhoutte score is: 0.10891422043216759\n"
     ]
    },
    {
     "data": {
      "text/plain": [
       "array([ -1,   0,   1,   2,   3,   4,   5,   6,   7,   8,   9,  10,  11,\n",
       "        12,  13,  14,  15,  16,  17,  18,  19,  20,  21,  22,  23,  24,\n",
       "        25,  26,  27,  28,  29,  30,  31,  32,  33,  34,  35,  36,  37,\n",
       "        38,  39,  40,  41,  42,  43,  44,  45,  46,  47,  48,  49,  50,\n",
       "        51,  52,  53,  54,  55,  56,  57,  58,  59,  60,  61,  62,  63,\n",
       "        64,  65,  66,  67,  68,  69,  70,  71,  72,  73,  74,  75,  76,\n",
       "        77,  78,  79,  80,  81,  82,  83,  84,  85,  86,  87,  88,  89,\n",
       "        90,  91,  92,  93,  94,  95,  96,  97,  98,  99, 100, 101, 102,\n",
       "       103, 104, 105, 106, 107, 108, 109, 110, 111, 112, 113, 114, 115,\n",
       "       116, 117, 118, 119, 120, 121, 122, 123, 124, 125, 126, 127, 128,\n",
       "       129, 130, 131, 132, 133, 134, 135, 136, 137, 138, 139, 140, 141,\n",
       "       142, 143, 144, 145, 146, 147, 148, 149, 150, 151, 152, 153, 154,\n",
       "       155, 156, 157, 158, 159, 160, 161, 162, 163, 164], dtype=int64)"
      ]
     },
     "execution_count": 209,
     "metadata": {},
     "output_type": "execute_result"
    }
   ],
   "source": [
    "from sklearn.cluster import DBSCAN\n",
    "\n",
    "dbscan_cluster = DBSCAN(eps=1, min_samples=10)\n",
    "\n",
    "dbscan_cluster.fit(df_scaler)\n",
    "\n",
    "clusters = dbscan_cluster.fit_predict(df_scaler)\n",
    "\n",
    "plt.scatter(umap_results[:,0], umap_results[:,1], c=clusters)\n",
    "plt.show()\n",
    "\n",
    "print(\"The silhoutte score is: {}\"\n",
    "      .format(metrics.silhouette_score(df_scaler, clusters, metric='euclidean')))\n",
    "\n",
    "np.unique(clusters)"
   ]
  },
  {
   "cell_type": "code",
   "execution_count": null,
   "metadata": {
    "slideshow": {
     "slide_type": "skip"
    }
   },
   "outputs": [],
   "source": []
  },
  {
   "cell_type": "markdown",
   "metadata": {
    "slideshow": {
     "slide_type": "subslide"
    }
   },
   "source": [
    "## GMM"
   ]
  },
  {
   "cell_type": "code",
   "execution_count": 210,
   "metadata": {
    "slideshow": {
     "slide_type": "subslide"
    }
   },
   "outputs": [
    {
     "name": "stdout",
     "output_type": "stream",
     "text": [
      "7.79 s ± 177 ms per loop (mean ± std. dev. of 7 runs, 1 loop each)\n"
     ]
    },
    {
     "data": {
      "image/png": "[encoded data removed]",
      "text/plain": [
       "<Figure size 432x288 with 1 Axes>"
      ]
     },
     "metadata": {
      "needs_background": "light"
     },
     "output_type": "display_data"
    },
    {
     "name": "stdout",
     "output_type": "stream",
     "text": [
      "The silhoutte score is: 0.21438209500547453\n"
     ]
    },
    {
     "data": {
      "text/plain": [
       "array([0, 1, 2], dtype=int64)"
      ]
     },
     "execution_count": 210,
     "metadata": {},
     "output_type": "execute_result"
    }
   ],
   "source": [
    "from sklearn.mixture import GaussianMixture\n",
    "\n",
    "gmm_cluster = GaussianMixture(n_components=3, random_state=123)\n",
    "\n",
    "gmm_cluster.fit(df_scaler)\n",
    "\n",
    "clusters = gmm_cluster.fit_predict(df_scaler)\n",
    "\n",
    "\n",
    "plt.scatter(umap_results[:,0], umap_results[:,1], c=clusters)\n",
    "plt.show()\n",
    "\n",
    "print(\"The silhoutte score is: {}\"\n",
    "      .format(metrics.silhouette_score(df_scaler, clusters, metric='euclidean')))\n",
    "\n",
    "np.unique(clusters)"
   ]
  },
  {
   "cell_type": "markdown",
   "metadata": {
    "slideshow": {
     "slide_type": "subslide"
    }
   },
   "source": [
    "K means is the best performer:\n",
    "1. fastest speed\n",
    "2. highest silhoutte score\n",
    "3. has the most clear graph for different clusters\n"
   ]
  },
  {
   "cell_type": "markdown",
   "metadata": {
    "slideshow": {
     "slide_type": "slide"
    }
   },
   "source": [
    "# Explore Clusters"
   ]
  },
  {
   "cell_type": "code",
   "execution_count": 31,
   "metadata": {
    "slideshow": {
     "slide_type": "skip"
    }
   },
   "outputs": [
    {
     "data": {
      "text/plain": [
       "0    19744\n",
       "1     8897\n",
       "8     4867\n",
       "4     3929\n",
       "2     2402\n",
       "5     1427\n",
       "7     1366\n",
       "6      956\n",
       "3      470\n",
       "Name: cluster, dtype: int64"
      ]
     },
     "execution_count": 31,
     "metadata": {},
     "output_type": "execute_result"
    }
   ],
   "source": [
    "# re-run the K-means n=9 to rest the cluster number and info\n",
    "\n",
    "from sklearn.cluster import KMeans\n",
    "\n",
    "k_means = KMeans(n_clusters=9, random_state=123)\n",
    "k_means.fit(X_mm)\n",
    "clusters = k_means.predict(X_mm)\n",
    "clusters\n",
    "\n",
    "df['cluster']=clusters\n",
    "df['cluster'].value_counts()\n",
    "\n",
    "#df.head()\n",
    "#df.info()"
   ]
  },
  {
   "cell_type": "code",
   "execution_count": 31,
   "metadata": {
    "slideshow": {
     "slide_type": "skip"
    }
   },
   "outputs": [
    {
     "data": {
      "text/plain": [
       "Index(['languages', 'prod_country', 'genres1', 'budget', 'original_language',\n",
       "       'revenue', 'runtime', 'vote_average', 'vote_count', 'year', 'cluster'],\n",
       "      dtype='object')"
      ]
     },
     "execution_count": 31,
     "metadata": {},
     "output_type": "execute_result"
    }
   ],
   "source": [
    "df.columns #11"
   ]
  },
  {
   "cell_type": "code",
   "execution_count": 63,
   "metadata": {
    "slideshow": {
     "slide_type": "skip"
    }
   },
   "outputs": [
    {
     "data": {
      "text/plain": [
       "str"
      ]
     },
     "execution_count": 63,
     "metadata": {},
     "output_type": "execute_result"
    }
   ],
   "source": [
    "#df.groupby(['cluster']).count()\n",
    "type(df.budget[1])"
   ]
  },
  {
   "cell_type": "code",
   "execution_count": 47,
   "metadata": {
    "scrolled": true,
    "slideshow": {
     "slide_type": "skip"
    }
   },
   "outputs": [],
   "source": [
    "# budget: change str to int --> budget1\n",
    "\n",
    "df[\"budget1\"]=pd.to_numeric(df[\"budget\"])\n",
    "type(df.budget1[1])\n",
    "\n",
    "df.drop(['budget'],axis=1, inplace=True)\n"
   ]
  },
  {
   "cell_type": "code",
   "execution_count": 48,
   "metadata": {
    "slideshow": {
     "slide_type": "skip"
    }
   },
   "outputs": [
    {
     "data": {
      "text/plain": [
       "Index(['languages', 'prod_country', 'genres1', 'original_language', 'revenue',\n",
       "       'runtime', 'vote_average', 'vote_count', 'year', 'cluster', 'budget1'],\n",
       "      dtype='object')"
      ]
     },
     "execution_count": 48,
     "metadata": {},
     "output_type": "execute_result"
    }
   ],
   "source": [
    "df.columns"
   ]
  },
  {
   "cell_type": "code",
   "execution_count": 32,
   "metadata": {
    "slideshow": {
     "slide_type": "subslide"
    }
   },
   "outputs": [],
   "source": [
    "# explore numerial columns \n",
    "\n",
    "num=['revenue', 'runtime', 'vote_average', 'vote_count', 'year','budget1']\n"
   ]
  },
  {
   "cell_type": "code",
   "execution_count": 33,
   "metadata": {
    "scrolled": true,
    "slideshow": {
     "slide_type": "subslide"
    }
   },
   "outputs": [
    {
     "data": {
      "text/html": [
       "<div>\n",
       "<style scoped>\n",
       "    .dataframe tbody tr th:only-of-type {\n",
       "        vertical-align: middle;\n",
       "    }\n",
       "\n",
       "    .dataframe tbody tr th {\n",
       "        vertical-align: top;\n",
       "    }\n",
       "\n",
       "    .dataframe thead th {\n",
       "        text-align: right;\n",
       "    }\n",
       "</style>\n",
       "<table border=\"1\" class=\"dataframe\">\n",
       "  <thead>\n",
       "    <tr style=\"text-align: right;\">\n",
       "      <th></th>\n",
       "      <th>revenue</th>\n",
       "      <th>runtime</th>\n",
       "      <th>vote_average</th>\n",
       "      <th>vote_count</th>\n",
       "      <th>year</th>\n",
       "    </tr>\n",
       "    <tr>\n",
       "      <th>cluster</th>\n",
       "      <th></th>\n",
       "      <th></th>\n",
       "      <th></th>\n",
       "      <th></th>\n",
       "      <th></th>\n",
       "    </tr>\n",
       "  </thead>\n",
       "  <tbody>\n",
       "    <tr>\n",
       "      <th>7</th>\n",
       "      <td>4.822009e+05</td>\n",
       "      <td>97.379941</td>\n",
       "      <td>5.570864</td>\n",
       "      <td>36.217423</td>\n",
       "      <td>1980.904100</td>\n",
       "    </tr>\n",
       "    <tr>\n",
       "      <th>6</th>\n",
       "      <td>8.348257e+05</td>\n",
       "      <td>100.047071</td>\n",
       "      <td>6.114644</td>\n",
       "      <td>30.543933</td>\n",
       "      <td>1991.234310</td>\n",
       "    </tr>\n",
       "    <tr>\n",
       "      <th>1</th>\n",
       "      <td>1.060271e+06</td>\n",
       "      <td>92.634146</td>\n",
       "      <td>5.505238</td>\n",
       "      <td>14.051253</td>\n",
       "      <td>1996.703608</td>\n",
       "    </tr>\n",
       "    <tr>\n",
       "      <th>2</th>\n",
       "      <td>1.187365e+06</td>\n",
       "      <td>96.105745</td>\n",
       "      <td>6.199792</td>\n",
       "      <td>52.787261</td>\n",
       "      <td>1990.114488</td>\n",
       "    </tr>\n",
       "    <tr>\n",
       "      <th>8</th>\n",
       "      <td>1.513540e+06</td>\n",
       "      <td>93.599548</td>\n",
       "      <td>5.464619</td>\n",
       "      <td>31.555373</td>\n",
       "      <td>2001.830080</td>\n",
       "    </tr>\n",
       "    <tr>\n",
       "      <th>3</th>\n",
       "      <td>2.066240e+06</td>\n",
       "      <td>112.836170</td>\n",
       "      <td>6.561915</td>\n",
       "      <td>43.963830</td>\n",
       "      <td>2008.131915</td>\n",
       "    </tr>\n",
       "    <tr>\n",
       "      <th>5</th>\n",
       "      <td>2.602716e+06</td>\n",
       "      <td>99.498248</td>\n",
       "      <td>6.222144</td>\n",
       "      <td>43.377015</td>\n",
       "      <td>1991.416258</td>\n",
       "    </tr>\n",
       "    <tr>\n",
       "      <th>4</th>\n",
       "      <td>1.863328e+07</td>\n",
       "      <td>101.775515</td>\n",
       "      <td>6.050725</td>\n",
       "      <td>195.819801</td>\n",
       "      <td>1991.677017</td>\n",
       "    </tr>\n",
       "    <tr>\n",
       "      <th>0</th>\n",
       "      <td>2.079070e+07</td>\n",
       "      <td>94.602056</td>\n",
       "      <td>5.586907</td>\n",
       "      <td>184.913543</td>\n",
       "      <td>1987.764536</td>\n",
       "    </tr>\n",
       "  </tbody>\n",
       "</table>\n",
       "</div>"
      ],
      "text/plain": [
       "              revenue     runtime  vote_average  vote_count         year\n",
       "cluster                                                                 \n",
       "7        4.822009e+05   97.379941      5.570864   36.217423  1980.904100\n",
       "6        8.348257e+05  100.047071      6.114644   30.543933  1991.234310\n",
       "1        1.060271e+06   92.634146      5.505238   14.051253  1996.703608\n",
       "2        1.187365e+06   96.105745      6.199792   52.787261  1990.114488\n",
       "8        1.513540e+06   93.599548      5.464619   31.555373  2001.830080\n",
       "3        2.066240e+06  112.836170      6.561915   43.963830  2008.131915\n",
       "5        2.602716e+06   99.498248      6.222144   43.377015  1991.416258\n",
       "4        1.863328e+07  101.775515      6.050725  195.819801  1991.677017\n",
       "0        2.079070e+07   94.602056      5.586907  184.913543  1987.764536"
      ]
     },
     "execution_count": 33,
     "metadata": {},
     "output_type": "execute_result"
    }
   ],
   "source": [
    "df.groupby(['cluster']).mean().sort_values(by=['revenue'])\n",
    "# cluster0 has the highest revenue\n",
    "# cluster4 has the 2nd highest revenue"
   ]
  },
  {
   "cell_type": "code",
   "execution_count": 40,
   "metadata": {
    "slideshow": {
     "slide_type": "subslide"
    }
   },
   "outputs": [
    {
     "data": {
      "image/png": "[encoded data removed]",
      "text/plain": [
       "<Figure size 864x504 with 1 Axes>"
      ]
     },
     "metadata": {
      "needs_background": "light"
     },
     "output_type": "display_data"
    }
   ],
   "source": [
    "import seaborn as sns\n",
    "\n",
    "plt.figure(figsize=(12,7))\n",
    "axis = sns.barplot(x=np.arange(0,9,1),y=df.groupby(['cluster']).mean()['revenue'])\n",
    "x=axis.set_xlabel(\"Cluster Number\")\n",
    "x=axis.set_ylabel(\"Number of movies\")"
   ]
  },
  {
   "cell_type": "code",
   "execution_count": 37,
   "metadata": {
    "slideshow": {
     "slide_type": "subslide"
    }
   },
   "outputs": [
    {
     "data": {
      "text/html": [
       "<div>\n",
       "<style scoped>\n",
       "    .dataframe tbody tr th:only-of-type {\n",
       "        vertical-align: middle;\n",
       "    }\n",
       "\n",
       "    .dataframe tbody tr th {\n",
       "        vertical-align: top;\n",
       "    }\n",
       "\n",
       "    .dataframe thead th {\n",
       "        text-align: right;\n",
       "    }\n",
       "</style>\n",
       "<table border=\"1\" class=\"dataframe\">\n",
       "  <thead>\n",
       "    <tr style=\"text-align: right;\">\n",
       "      <th></th>\n",
       "      <th>revenue</th>\n",
       "      <th>runtime</th>\n",
       "      <th>vote_average</th>\n",
       "      <th>vote_count</th>\n",
       "      <th>year</th>\n",
       "    </tr>\n",
       "    <tr>\n",
       "      <th>cluster</th>\n",
       "      <th></th>\n",
       "      <th></th>\n",
       "      <th></th>\n",
       "      <th></th>\n",
       "      <th></th>\n",
       "    </tr>\n",
       "  </thead>\n",
       "  <tbody>\n",
       "    <tr>\n",
       "      <th>1</th>\n",
       "      <td>1.060271e+06</td>\n",
       "      <td>92.634146</td>\n",
       "      <td>5.505238</td>\n",
       "      <td>14.051253</td>\n",
       "      <td>1996.703608</td>\n",
       "    </tr>\n",
       "    <tr>\n",
       "      <th>8</th>\n",
       "      <td>1.513540e+06</td>\n",
       "      <td>93.599548</td>\n",
       "      <td>5.464619</td>\n",
       "      <td>31.555373</td>\n",
       "      <td>2001.830080</td>\n",
       "    </tr>\n",
       "    <tr>\n",
       "      <th>0</th>\n",
       "      <td>2.079070e+07</td>\n",
       "      <td>94.602056</td>\n",
       "      <td>5.586907</td>\n",
       "      <td>184.913543</td>\n",
       "      <td>1987.764536</td>\n",
       "    </tr>\n",
       "    <tr>\n",
       "      <th>2</th>\n",
       "      <td>1.187365e+06</td>\n",
       "      <td>96.105745</td>\n",
       "      <td>6.199792</td>\n",
       "      <td>52.787261</td>\n",
       "      <td>1990.114488</td>\n",
       "    </tr>\n",
       "    <tr>\n",
       "      <th>7</th>\n",
       "      <td>4.822009e+05</td>\n",
       "      <td>97.379941</td>\n",
       "      <td>5.570864</td>\n",
       "      <td>36.217423</td>\n",
       "      <td>1980.904100</td>\n",
       "    </tr>\n",
       "    <tr>\n",
       "      <th>5</th>\n",
       "      <td>2.602716e+06</td>\n",
       "      <td>99.498248</td>\n",
       "      <td>6.222144</td>\n",
       "      <td>43.377015</td>\n",
       "      <td>1991.416258</td>\n",
       "    </tr>\n",
       "    <tr>\n",
       "      <th>6</th>\n",
       "      <td>8.348257e+05</td>\n",
       "      <td>100.047071</td>\n",
       "      <td>6.114644</td>\n",
       "      <td>30.543933</td>\n",
       "      <td>1991.234310</td>\n",
       "    </tr>\n",
       "    <tr>\n",
       "      <th>4</th>\n",
       "      <td>1.863328e+07</td>\n",
       "      <td>101.775515</td>\n",
       "      <td>6.050725</td>\n",
       "      <td>195.819801</td>\n",
       "      <td>1991.677017</td>\n",
       "    </tr>\n",
       "    <tr>\n",
       "      <th>3</th>\n",
       "      <td>2.066240e+06</td>\n",
       "      <td>112.836170</td>\n",
       "      <td>6.561915</td>\n",
       "      <td>43.963830</td>\n",
       "      <td>2008.131915</td>\n",
       "    </tr>\n",
       "  </tbody>\n",
       "</table>\n",
       "</div>"
      ],
      "text/plain": [
       "              revenue     runtime  vote_average  vote_count         year\n",
       "cluster                                                                 \n",
       "1        1.060271e+06   92.634146      5.505238   14.051253  1996.703608\n",
       "8        1.513540e+06   93.599548      5.464619   31.555373  2001.830080\n",
       "0        2.079070e+07   94.602056      5.586907  184.913543  1987.764536\n",
       "2        1.187365e+06   96.105745      6.199792   52.787261  1990.114488\n",
       "7        4.822009e+05   97.379941      5.570864   36.217423  1980.904100\n",
       "5        2.602716e+06   99.498248      6.222144   43.377015  1991.416258\n",
       "6        8.348257e+05  100.047071      6.114644   30.543933  1991.234310\n",
       "4        1.863328e+07  101.775515      6.050725  195.819801  1991.677017\n",
       "3        2.066240e+06  112.836170      6.561915   43.963830  2008.131915"
      ]
     },
     "execution_count": 37,
     "metadata": {},
     "output_type": "execute_result"
    }
   ],
   "source": [
    "df.groupby(['cluster']).mean().sort_values(by=['runtime'])\n",
    "# cluster3 has the longest runtime\n",
    "# while the rest has similar runtime"
   ]
  },
  {
   "cell_type": "code",
   "execution_count": 41,
   "metadata": {
    "slideshow": {
     "slide_type": "subslide"
    }
   },
   "outputs": [
    {
     "data": {
      "image/png": "[encoded data removed]",
      "text/plain": [
       "<Figure size 864x504 with 1 Axes>"
      ]
     },
     "metadata": {
      "needs_background": "light"
     },
     "output_type": "display_data"
    }
   ],
   "source": [
    "plt.figure(figsize=(12,7))\n",
    "axis = sns.barplot(x=np.arange(0,9,1),y=df.groupby(['cluster']).mean()['runtime'])\n",
    "x=axis.set_xlabel(\"Cluster Number\")\n",
    "x=axis.set_ylabel(\"Number of movies\")"
   ]
  },
  {
   "cell_type": "code",
   "execution_count": 79,
   "metadata": {
    "scrolled": true,
    "slideshow": {
     "slide_type": "subslide"
    }
   },
   "outputs": [
    {
     "data": {
      "text/html": [
       "<div>\n",
       "<style scoped>\n",
       "    .dataframe tbody tr th:only-of-type {\n",
       "        vertical-align: middle;\n",
       "    }\n",
       "\n",
       "    .dataframe tbody tr th {\n",
       "        vertical-align: top;\n",
       "    }\n",
       "\n",
       "    .dataframe thead th {\n",
       "        text-align: right;\n",
       "    }\n",
       "</style>\n",
       "<table border=\"1\" class=\"dataframe\">\n",
       "  <thead>\n",
       "    <tr style=\"text-align: right;\">\n",
       "      <th></th>\n",
       "      <th>revenue</th>\n",
       "      <th>runtime</th>\n",
       "      <th>vote_average</th>\n",
       "      <th>vote_count</th>\n",
       "      <th>year</th>\n",
       "      <th>budget1</th>\n",
       "    </tr>\n",
       "    <tr>\n",
       "      <th>cluster</th>\n",
       "      <th></th>\n",
       "      <th></th>\n",
       "      <th></th>\n",
       "      <th></th>\n",
       "      <th></th>\n",
       "      <th></th>\n",
       "    </tr>\n",
       "  </thead>\n",
       "  <tbody>\n",
       "    <tr>\n",
       "      <th>8</th>\n",
       "      <td>1.513540e+06</td>\n",
       "      <td>93.599548</td>\n",
       "      <td>5.464619</td>\n",
       "      <td>31.555373</td>\n",
       "      <td>2001.830080</td>\n",
       "      <td>1.207319e+06</td>\n",
       "    </tr>\n",
       "    <tr>\n",
       "      <th>1</th>\n",
       "      <td>1.060271e+06</td>\n",
       "      <td>92.634146</td>\n",
       "      <td>5.505238</td>\n",
       "      <td>14.051253</td>\n",
       "      <td>1996.703608</td>\n",
       "      <td>5.240746e+05</td>\n",
       "    </tr>\n",
       "    <tr>\n",
       "      <th>7</th>\n",
       "      <td>4.822009e+05</td>\n",
       "      <td>97.379941</td>\n",
       "      <td>5.570864</td>\n",
       "      <td>36.217423</td>\n",
       "      <td>1980.904100</td>\n",
       "      <td>3.232650e+05</td>\n",
       "    </tr>\n",
       "    <tr>\n",
       "      <th>0</th>\n",
       "      <td>2.079070e+07</td>\n",
       "      <td>94.602056</td>\n",
       "      <td>5.586907</td>\n",
       "      <td>184.913543</td>\n",
       "      <td>1987.764536</td>\n",
       "      <td>7.599510e+06</td>\n",
       "    </tr>\n",
       "    <tr>\n",
       "      <th>4</th>\n",
       "      <td>1.863328e+07</td>\n",
       "      <td>101.775515</td>\n",
       "      <td>6.050725</td>\n",
       "      <td>195.819801</td>\n",
       "      <td>1991.677017</td>\n",
       "      <td>6.640723e+06</td>\n",
       "    </tr>\n",
       "    <tr>\n",
       "      <th>6</th>\n",
       "      <td>8.348257e+05</td>\n",
       "      <td>100.047071</td>\n",
       "      <td>6.114644</td>\n",
       "      <td>30.543933</td>\n",
       "      <td>1991.234310</td>\n",
       "      <td>6.687928e+05</td>\n",
       "    </tr>\n",
       "    <tr>\n",
       "      <th>2</th>\n",
       "      <td>1.187365e+06</td>\n",
       "      <td>96.105745</td>\n",
       "      <td>6.199792</td>\n",
       "      <td>52.787261</td>\n",
       "      <td>1990.114488</td>\n",
       "      <td>1.131543e+06</td>\n",
       "    </tr>\n",
       "    <tr>\n",
       "      <th>5</th>\n",
       "      <td>2.602716e+06</td>\n",
       "      <td>99.498248</td>\n",
       "      <td>6.222144</td>\n",
       "      <td>43.377015</td>\n",
       "      <td>1991.416258</td>\n",
       "      <td>6.776144e+05</td>\n",
       "    </tr>\n",
       "    <tr>\n",
       "      <th>3</th>\n",
       "      <td>2.066240e+06</td>\n",
       "      <td>112.836170</td>\n",
       "      <td>6.561915</td>\n",
       "      <td>43.963830</td>\n",
       "      <td>2008.131915</td>\n",
       "      <td>9.014995e+05</td>\n",
       "    </tr>\n",
       "  </tbody>\n",
       "</table>\n",
       "</div>"
      ],
      "text/plain": [
       "              revenue     runtime  vote_average  vote_count         year  \\\n",
       "cluster                                                                    \n",
       "8        1.513540e+06   93.599548      5.464619   31.555373  2001.830080   \n",
       "1        1.060271e+06   92.634146      5.505238   14.051253  1996.703608   \n",
       "7        4.822009e+05   97.379941      5.570864   36.217423  1980.904100   \n",
       "0        2.079070e+07   94.602056      5.586907  184.913543  1987.764536   \n",
       "4        1.863328e+07  101.775515      6.050725  195.819801  1991.677017   \n",
       "6        8.348257e+05  100.047071      6.114644   30.543933  1991.234310   \n",
       "2        1.187365e+06   96.105745      6.199792   52.787261  1990.114488   \n",
       "5        2.602716e+06   99.498248      6.222144   43.377015  1991.416258   \n",
       "3        2.066240e+06  112.836170      6.561915   43.963830  2008.131915   \n",
       "\n",
       "              budget1  \n",
       "cluster                \n",
       "8        1.207319e+06  \n",
       "1        5.240746e+05  \n",
       "7        3.232650e+05  \n",
       "0        7.599510e+06  \n",
       "4        6.640723e+06  \n",
       "6        6.687928e+05  \n",
       "2        1.131543e+06  \n",
       "5        6.776144e+05  \n",
       "3        9.014995e+05  "
      ]
     },
     "execution_count": 79,
     "metadata": {},
     "output_type": "execute_result"
    }
   ],
   "source": [
    "df.groupby(['cluster']).mean().sort_values(by=['vote_average'])\n",
    "# cluster3 has the most vote avg"
   ]
  },
  {
   "cell_type": "code",
   "execution_count": 42,
   "metadata": {
    "slideshow": {
     "slide_type": "subslide"
    }
   },
   "outputs": [
    {
     "data": {
      "image/png": "[encoded data removed]",
      "text/plain": [
       "<Figure size 864x504 with 1 Axes>"
      ]
     },
     "metadata": {
      "needs_background": "light"
     },
     "output_type": "display_data"
    }
   ],
   "source": [
    "plt.figure(figsize=(12,7))\n",
    "axis = sns.barplot(x=np.arange(0,9,1),y=df.groupby(['cluster']).mean()['vote_average'])\n",
    "x=axis.set_xlabel(\"Cluster Number\")\n",
    "x=axis.set_ylabel(\"Number of movies\")"
   ]
  },
  {
   "cell_type": "code",
   "execution_count": 80,
   "metadata": {
    "slideshow": {
     "slide_type": "subslide"
    }
   },
   "outputs": [
    {
     "data": {
      "text/html": [
       "<div>\n",
       "<style scoped>\n",
       "    .dataframe tbody tr th:only-of-type {\n",
       "        vertical-align: middle;\n",
       "    }\n",
       "\n",
       "    .dataframe tbody tr th {\n",
       "        vertical-align: top;\n",
       "    }\n",
       "\n",
       "    .dataframe thead th {\n",
       "        text-align: right;\n",
       "    }\n",
       "</style>\n",
       "<table border=\"1\" class=\"dataframe\">\n",
       "  <thead>\n",
       "    <tr style=\"text-align: right;\">\n",
       "      <th></th>\n",
       "      <th>revenue</th>\n",
       "      <th>runtime</th>\n",
       "      <th>vote_average</th>\n",
       "      <th>vote_count</th>\n",
       "      <th>year</th>\n",
       "      <th>budget1</th>\n",
       "    </tr>\n",
       "    <tr>\n",
       "      <th>cluster</th>\n",
       "      <th></th>\n",
       "      <th></th>\n",
       "      <th></th>\n",
       "      <th></th>\n",
       "      <th></th>\n",
       "      <th></th>\n",
       "    </tr>\n",
       "  </thead>\n",
       "  <tbody>\n",
       "    <tr>\n",
       "      <th>1</th>\n",
       "      <td>1.060271e+06</td>\n",
       "      <td>92.634146</td>\n",
       "      <td>5.505238</td>\n",
       "      <td>14.051253</td>\n",
       "      <td>1996.703608</td>\n",
       "      <td>5.240746e+05</td>\n",
       "    </tr>\n",
       "    <tr>\n",
       "      <th>6</th>\n",
       "      <td>8.348257e+05</td>\n",
       "      <td>100.047071</td>\n",
       "      <td>6.114644</td>\n",
       "      <td>30.543933</td>\n",
       "      <td>1991.234310</td>\n",
       "      <td>6.687928e+05</td>\n",
       "    </tr>\n",
       "    <tr>\n",
       "      <th>8</th>\n",
       "      <td>1.513540e+06</td>\n",
       "      <td>93.599548</td>\n",
       "      <td>5.464619</td>\n",
       "      <td>31.555373</td>\n",
       "      <td>2001.830080</td>\n",
       "      <td>1.207319e+06</td>\n",
       "    </tr>\n",
       "    <tr>\n",
       "      <th>7</th>\n",
       "      <td>4.822009e+05</td>\n",
       "      <td>97.379941</td>\n",
       "      <td>5.570864</td>\n",
       "      <td>36.217423</td>\n",
       "      <td>1980.904100</td>\n",
       "      <td>3.232650e+05</td>\n",
       "    </tr>\n",
       "    <tr>\n",
       "      <th>5</th>\n",
       "      <td>2.602716e+06</td>\n",
       "      <td>99.498248</td>\n",
       "      <td>6.222144</td>\n",
       "      <td>43.377015</td>\n",
       "      <td>1991.416258</td>\n",
       "      <td>6.776144e+05</td>\n",
       "    </tr>\n",
       "    <tr>\n",
       "      <th>3</th>\n",
       "      <td>2.066240e+06</td>\n",
       "      <td>112.836170</td>\n",
       "      <td>6.561915</td>\n",
       "      <td>43.963830</td>\n",
       "      <td>2008.131915</td>\n",
       "      <td>9.014995e+05</td>\n",
       "    </tr>\n",
       "    <tr>\n",
       "      <th>2</th>\n",
       "      <td>1.187365e+06</td>\n",
       "      <td>96.105745</td>\n",
       "      <td>6.199792</td>\n",
       "      <td>52.787261</td>\n",
       "      <td>1990.114488</td>\n",
       "      <td>1.131543e+06</td>\n",
       "    </tr>\n",
       "    <tr>\n",
       "      <th>0</th>\n",
       "      <td>2.079070e+07</td>\n",
       "      <td>94.602056</td>\n",
       "      <td>5.586907</td>\n",
       "      <td>184.913543</td>\n",
       "      <td>1987.764536</td>\n",
       "      <td>7.599510e+06</td>\n",
       "    </tr>\n",
       "    <tr>\n",
       "      <th>4</th>\n",
       "      <td>1.863328e+07</td>\n",
       "      <td>101.775515</td>\n",
       "      <td>6.050725</td>\n",
       "      <td>195.819801</td>\n",
       "      <td>1991.677017</td>\n",
       "      <td>6.640723e+06</td>\n",
       "    </tr>\n",
       "  </tbody>\n",
       "</table>\n",
       "</div>"
      ],
      "text/plain": [
       "              revenue     runtime  vote_average  vote_count         year  \\\n",
       "cluster                                                                    \n",
       "1        1.060271e+06   92.634146      5.505238   14.051253  1996.703608   \n",
       "6        8.348257e+05  100.047071      6.114644   30.543933  1991.234310   \n",
       "8        1.513540e+06   93.599548      5.464619   31.555373  2001.830080   \n",
       "7        4.822009e+05   97.379941      5.570864   36.217423  1980.904100   \n",
       "5        2.602716e+06   99.498248      6.222144   43.377015  1991.416258   \n",
       "3        2.066240e+06  112.836170      6.561915   43.963830  2008.131915   \n",
       "2        1.187365e+06   96.105745      6.199792   52.787261  1990.114488   \n",
       "0        2.079070e+07   94.602056      5.586907  184.913543  1987.764536   \n",
       "4        1.863328e+07  101.775515      6.050725  195.819801  1991.677017   \n",
       "\n",
       "              budget1  \n",
       "cluster                \n",
       "1        5.240746e+05  \n",
       "6        6.687928e+05  \n",
       "8        1.207319e+06  \n",
       "7        3.232650e+05  \n",
       "5        6.776144e+05  \n",
       "3        9.014995e+05  \n",
       "2        1.131543e+06  \n",
       "0        7.599510e+06  \n",
       "4        6.640723e+06  "
      ]
     },
     "execution_count": 80,
     "metadata": {},
     "output_type": "execute_result"
    }
   ],
   "source": [
    "df.groupby(['cluster']).mean().sort_values(by=['vote_count'])\n",
    "# cluster4 has the most vote count\n",
    "# cluster0 has the 2nd highest vote count"
   ]
  },
  {
   "cell_type": "code",
   "execution_count": 44,
   "metadata": {
    "slideshow": {
     "slide_type": "subslide"
    }
   },
   "outputs": [
    {
     "data": {
      "image/png": "[encoded data removed]",
      "text/plain": [
       "<Figure size 864x504 with 1 Axes>"
      ]
     },
     "metadata": {
      "needs_background": "light"
     },
     "output_type": "display_data"
    }
   ],
   "source": [
    "plt.figure(figsize=(12,7))\n",
    "axis = sns.barplot(x=np.arange(0,9,1),y=df.groupby(['cluster']).mean()['vote_count'])\n",
    "x=axis.set_xlabel(\"Cluster Number\")\n",
    "x=axis.set_ylabel(\"Number of movies\")"
   ]
  },
  {
   "cell_type": "code",
   "execution_count": 81,
   "metadata": {
    "scrolled": true,
    "slideshow": {
     "slide_type": "subslide"
    }
   },
   "outputs": [
    {
     "data": {
      "text/html": [
       "<div>\n",
       "<style scoped>\n",
       "    .dataframe tbody tr th:only-of-type {\n",
       "        vertical-align: middle;\n",
       "    }\n",
       "\n",
       "    .dataframe tbody tr th {\n",
       "        vertical-align: top;\n",
       "    }\n",
       "\n",
       "    .dataframe thead th {\n",
       "        text-align: right;\n",
       "    }\n",
       "</style>\n",
       "<table border=\"1\" class=\"dataframe\">\n",
       "  <thead>\n",
       "    <tr style=\"text-align: right;\">\n",
       "      <th></th>\n",
       "      <th>revenue</th>\n",
       "      <th>runtime</th>\n",
       "      <th>vote_average</th>\n",
       "      <th>vote_count</th>\n",
       "      <th>year</th>\n",
       "      <th>budget1</th>\n",
       "    </tr>\n",
       "    <tr>\n",
       "      <th>cluster</th>\n",
       "      <th></th>\n",
       "      <th></th>\n",
       "      <th></th>\n",
       "      <th></th>\n",
       "      <th></th>\n",
       "      <th></th>\n",
       "    </tr>\n",
       "  </thead>\n",
       "  <tbody>\n",
       "    <tr>\n",
       "      <th>7</th>\n",
       "      <td>4.822009e+05</td>\n",
       "      <td>97.379941</td>\n",
       "      <td>5.570864</td>\n",
       "      <td>36.217423</td>\n",
       "      <td>1980.904100</td>\n",
       "      <td>3.232650e+05</td>\n",
       "    </tr>\n",
       "    <tr>\n",
       "      <th>0</th>\n",
       "      <td>2.079070e+07</td>\n",
       "      <td>94.602056</td>\n",
       "      <td>5.586907</td>\n",
       "      <td>184.913543</td>\n",
       "      <td>1987.764536</td>\n",
       "      <td>7.599510e+06</td>\n",
       "    </tr>\n",
       "    <tr>\n",
       "      <th>2</th>\n",
       "      <td>1.187365e+06</td>\n",
       "      <td>96.105745</td>\n",
       "      <td>6.199792</td>\n",
       "      <td>52.787261</td>\n",
       "      <td>1990.114488</td>\n",
       "      <td>1.131543e+06</td>\n",
       "    </tr>\n",
       "    <tr>\n",
       "      <th>6</th>\n",
       "      <td>8.348257e+05</td>\n",
       "      <td>100.047071</td>\n",
       "      <td>6.114644</td>\n",
       "      <td>30.543933</td>\n",
       "      <td>1991.234310</td>\n",
       "      <td>6.687928e+05</td>\n",
       "    </tr>\n",
       "    <tr>\n",
       "      <th>5</th>\n",
       "      <td>2.602716e+06</td>\n",
       "      <td>99.498248</td>\n",
       "      <td>6.222144</td>\n",
       "      <td>43.377015</td>\n",
       "      <td>1991.416258</td>\n",
       "      <td>6.776144e+05</td>\n",
       "    </tr>\n",
       "    <tr>\n",
       "      <th>4</th>\n",
       "      <td>1.863328e+07</td>\n",
       "      <td>101.775515</td>\n",
       "      <td>6.050725</td>\n",
       "      <td>195.819801</td>\n",
       "      <td>1991.677017</td>\n",
       "      <td>6.640723e+06</td>\n",
       "    </tr>\n",
       "    <tr>\n",
       "      <th>1</th>\n",
       "      <td>1.060271e+06</td>\n",
       "      <td>92.634146</td>\n",
       "      <td>5.505238</td>\n",
       "      <td>14.051253</td>\n",
       "      <td>1996.703608</td>\n",
       "      <td>5.240746e+05</td>\n",
       "    </tr>\n",
       "    <tr>\n",
       "      <th>8</th>\n",
       "      <td>1.513540e+06</td>\n",
       "      <td>93.599548</td>\n",
       "      <td>5.464619</td>\n",
       "      <td>31.555373</td>\n",
       "      <td>2001.830080</td>\n",
       "      <td>1.207319e+06</td>\n",
       "    </tr>\n",
       "    <tr>\n",
       "      <th>3</th>\n",
       "      <td>2.066240e+06</td>\n",
       "      <td>112.836170</td>\n",
       "      <td>6.561915</td>\n",
       "      <td>43.963830</td>\n",
       "      <td>2008.131915</td>\n",
       "      <td>9.014995e+05</td>\n",
       "    </tr>\n",
       "  </tbody>\n",
       "</table>\n",
       "</div>"
      ],
      "text/plain": [
       "              revenue     runtime  vote_average  vote_count         year  \\\n",
       "cluster                                                                    \n",
       "7        4.822009e+05   97.379941      5.570864   36.217423  1980.904100   \n",
       "0        2.079070e+07   94.602056      5.586907  184.913543  1987.764536   \n",
       "2        1.187365e+06   96.105745      6.199792   52.787261  1990.114488   \n",
       "6        8.348257e+05  100.047071      6.114644   30.543933  1991.234310   \n",
       "5        2.602716e+06   99.498248      6.222144   43.377015  1991.416258   \n",
       "4        1.863328e+07  101.775515      6.050725  195.819801  1991.677017   \n",
       "1        1.060271e+06   92.634146      5.505238   14.051253  1996.703608   \n",
       "8        1.513540e+06   93.599548      5.464619   31.555373  2001.830080   \n",
       "3        2.066240e+06  112.836170      6.561915   43.963830  2008.131915   \n",
       "\n",
       "              budget1  \n",
       "cluster                \n",
       "7        3.232650e+05  \n",
       "0        7.599510e+06  \n",
       "2        1.131543e+06  \n",
       "6        6.687928e+05  \n",
       "5        6.776144e+05  \n",
       "4        6.640723e+06  \n",
       "1        5.240746e+05  \n",
       "8        1.207319e+06  \n",
       "3        9.014995e+05  "
      ]
     },
     "execution_count": 81,
     "metadata": {},
     "output_type": "execute_result"
    }
   ],
   "source": [
    "df.groupby(['cluster']).mean().sort_values(by=['year'])\n",
    "# cluster3 has the most recent movies\n",
    "# the rest has close enough release year"
   ]
  },
  {
   "cell_type": "code",
   "execution_count": 45,
   "metadata": {
    "slideshow": {
     "slide_type": "subslide"
    }
   },
   "outputs": [
    {
     "data": {
      "image/png": "[encoded data removed]",
      "text/plain": [
       "<Figure size 864x504 with 1 Axes>"
      ]
     },
     "metadata": {
      "needs_background": "light"
     },
     "output_type": "display_data"
    }
   ],
   "source": [
    "plt.figure(figsize=(12,7))\n",
    "axis = sns.barplot(x=np.arange(0,9,1),y=df.groupby(['cluster']).mean()['year'])\n",
    "x=axis.set_xlabel(\"Cluster Number\")\n",
    "x=axis.set_ylabel(\"Number of movies\")"
   ]
  },
  {
   "cell_type": "code",
   "execution_count": 82,
   "metadata": {
    "slideshow": {
     "slide_type": "subslide"
    }
   },
   "outputs": [
    {
     "data": {
      "text/html": [
       "<div>\n",
       "<style scoped>\n",
       "    .dataframe tbody tr th:only-of-type {\n",
       "        vertical-align: middle;\n",
       "    }\n",
       "\n",
       "    .dataframe tbody tr th {\n",
       "        vertical-align: top;\n",
       "    }\n",
       "\n",
       "    .dataframe thead th {\n",
       "        text-align: right;\n",
       "    }\n",
       "</style>\n",
       "<table border=\"1\" class=\"dataframe\">\n",
       "  <thead>\n",
       "    <tr style=\"text-align: right;\">\n",
       "      <th></th>\n",
       "      <th>revenue</th>\n",
       "      <th>runtime</th>\n",
       "      <th>vote_average</th>\n",
       "      <th>vote_count</th>\n",
       "      <th>year</th>\n",
       "      <th>budget1</th>\n",
       "    </tr>\n",
       "    <tr>\n",
       "      <th>cluster</th>\n",
       "      <th></th>\n",
       "      <th></th>\n",
       "      <th></th>\n",
       "      <th></th>\n",
       "      <th></th>\n",
       "      <th></th>\n",
       "    </tr>\n",
       "  </thead>\n",
       "  <tbody>\n",
       "    <tr>\n",
       "      <th>7</th>\n",
       "      <td>4.822009e+05</td>\n",
       "      <td>97.379941</td>\n",
       "      <td>5.570864</td>\n",
       "      <td>36.217423</td>\n",
       "      <td>1980.904100</td>\n",
       "      <td>3.232650e+05</td>\n",
       "    </tr>\n",
       "    <tr>\n",
       "      <th>1</th>\n",
       "      <td>1.060271e+06</td>\n",
       "      <td>92.634146</td>\n",
       "      <td>5.505238</td>\n",
       "      <td>14.051253</td>\n",
       "      <td>1996.703608</td>\n",
       "      <td>5.240746e+05</td>\n",
       "    </tr>\n",
       "    <tr>\n",
       "      <th>6</th>\n",
       "      <td>8.348257e+05</td>\n",
       "      <td>100.047071</td>\n",
       "      <td>6.114644</td>\n",
       "      <td>30.543933</td>\n",
       "      <td>1991.234310</td>\n",
       "      <td>6.687928e+05</td>\n",
       "    </tr>\n",
       "    <tr>\n",
       "      <th>5</th>\n",
       "      <td>2.602716e+06</td>\n",
       "      <td>99.498248</td>\n",
       "      <td>6.222144</td>\n",
       "      <td>43.377015</td>\n",
       "      <td>1991.416258</td>\n",
       "      <td>6.776144e+05</td>\n",
       "    </tr>\n",
       "    <tr>\n",
       "      <th>3</th>\n",
       "      <td>2.066240e+06</td>\n",
       "      <td>112.836170</td>\n",
       "      <td>6.561915</td>\n",
       "      <td>43.963830</td>\n",
       "      <td>2008.131915</td>\n",
       "      <td>9.014995e+05</td>\n",
       "    </tr>\n",
       "    <tr>\n",
       "      <th>2</th>\n",
       "      <td>1.187365e+06</td>\n",
       "      <td>96.105745</td>\n",
       "      <td>6.199792</td>\n",
       "      <td>52.787261</td>\n",
       "      <td>1990.114488</td>\n",
       "      <td>1.131543e+06</td>\n",
       "    </tr>\n",
       "    <tr>\n",
       "      <th>8</th>\n",
       "      <td>1.513540e+06</td>\n",
       "      <td>93.599548</td>\n",
       "      <td>5.464619</td>\n",
       "      <td>31.555373</td>\n",
       "      <td>2001.830080</td>\n",
       "      <td>1.207319e+06</td>\n",
       "    </tr>\n",
       "    <tr>\n",
       "      <th>4</th>\n",
       "      <td>1.863328e+07</td>\n",
       "      <td>101.775515</td>\n",
       "      <td>6.050725</td>\n",
       "      <td>195.819801</td>\n",
       "      <td>1991.677017</td>\n",
       "      <td>6.640723e+06</td>\n",
       "    </tr>\n",
       "    <tr>\n",
       "      <th>0</th>\n",
       "      <td>2.079070e+07</td>\n",
       "      <td>94.602056</td>\n",
       "      <td>5.586907</td>\n",
       "      <td>184.913543</td>\n",
       "      <td>1987.764536</td>\n",
       "      <td>7.599510e+06</td>\n",
       "    </tr>\n",
       "  </tbody>\n",
       "</table>\n",
       "</div>"
      ],
      "text/plain": [
       "              revenue     runtime  vote_average  vote_count         year  \\\n",
       "cluster                                                                    \n",
       "7        4.822009e+05   97.379941      5.570864   36.217423  1980.904100   \n",
       "1        1.060271e+06   92.634146      5.505238   14.051253  1996.703608   \n",
       "6        8.348257e+05  100.047071      6.114644   30.543933  1991.234310   \n",
       "5        2.602716e+06   99.498248      6.222144   43.377015  1991.416258   \n",
       "3        2.066240e+06  112.836170      6.561915   43.963830  2008.131915   \n",
       "2        1.187365e+06   96.105745      6.199792   52.787261  1990.114488   \n",
       "8        1.513540e+06   93.599548      5.464619   31.555373  2001.830080   \n",
       "4        1.863328e+07  101.775515      6.050725  195.819801  1991.677017   \n",
       "0        2.079070e+07   94.602056      5.586907  184.913543  1987.764536   \n",
       "\n",
       "              budget1  \n",
       "cluster                \n",
       "7        3.232650e+05  \n",
       "1        5.240746e+05  \n",
       "6        6.687928e+05  \n",
       "5        6.776144e+05  \n",
       "3        9.014995e+05  \n",
       "2        1.131543e+06  \n",
       "8        1.207319e+06  \n",
       "4        6.640723e+06  \n",
       "0        7.599510e+06  "
      ]
     },
     "execution_count": 82,
     "metadata": {},
     "output_type": "execute_result"
    }
   ],
   "source": [
    "df.groupby(['cluster']).mean().sort_values(by=['budget1'])\n",
    "# cluster 0 has the most budget\n",
    "# cluster 4 has the 2nd highest budget"
   ]
  },
  {
   "cell_type": "code",
   "execution_count": 49,
   "metadata": {
    "slideshow": {
     "slide_type": "subslide"
    }
   },
   "outputs": [
    {
     "data": {
      "image/png": "[encoded data removed]",
      "text/plain": [
       "<Figure size 864x504 with 1 Axes>"
      ]
     },
     "metadata": {
      "needs_background": "light"
     },
     "output_type": "display_data"
    }
   ],
   "source": [
    "plt.figure(figsize=(12,7))\n",
    "axis = sns.barplot(x=np.arange(0,9,1),y=df.groupby(['cluster']).mean()['budget1'])\n",
    "x=axis.set_xlabel(\"Cluster Number\")\n",
    "x=axis.set_ylabel(\"Number of movies\")"
   ]
  },
  {
   "cell_type": "code",
   "execution_count": 50,
   "metadata": {
    "slideshow": {
     "slide_type": "subslide"
    }
   },
   "outputs": [],
   "source": [
    "# explore non numerical columns \n",
    "\n",
    "non_num=['languages','original_language', 'prod_country', 'genres1']\n"
   ]
  },
  {
   "cell_type": "code",
   "execution_count": 94,
   "metadata": {
    "slideshow": {
     "slide_type": "subslide"
    }
   },
   "outputs": [
    {
     "ename": "TypeError",
     "evalue": "unhashable type: 'list'",
     "output_type": "error",
     "traceback": [
      "\u001b[1;31m---------------------------------------------------------------------------\u001b[0m",
      "\u001b[1;31mTypeError\u001b[0m                                 Traceback (most recent call last)",
      "\u001b[1;32mpandas\\_libs\\hashtable_class_helper.pxi\u001b[0m in \u001b[0;36mpandas._libs.hashtable.PyObjectHashTable.map_locations\u001b[1;34m()\u001b[0m\n",
      "\u001b[1;31mTypeError\u001b[0m: unhashable type: 'list'"
     ]
    },
    {
     "name": "stderr",
     "output_type": "stream",
     "text": [
      "Exception ignored in: 'pandas._libs.index.IndexEngine._call_map_locations'\n",
      "Traceback (most recent call last):\n",
      "  File \"pandas\\_libs\\hashtable_class_helper.pxi\", line 1653, in pandas._libs.hashtable.PyObjectHashTable.map_locations\n",
      "TypeError: unhashable type: 'list'\n"
     ]
    },
    {
     "data": {
      "text/plain": [
       "[Drama]                                                  1666\n",
       "[Comedy]                                                 1585\n",
       "[Documentary]                                             981\n",
       "[Drama, Romance]                                          581\n",
       "[Comedy, Romance]                                         576\n",
       "                                                         ... \n",
       "[Mystery, Drama, Thriller, Crime]                           1\n",
       "[Horror, Fantasy, Thriller, Science Fiction, Mystery]       1\n",
       "[Drama, Horror, Mystery, Science Fiction]                   1\n",
       "[Drama, Comedy, Thriller, Music, Romance]                   1\n",
       "[Mystery, Drama, Thriller, Horror]                          1\n",
       "Name: genres1, Length: 2533, dtype: int64"
      ]
     },
     "execution_count": 94,
     "metadata": {},
     "output_type": "execute_result"
    }
   ],
   "source": [
    "df[df['cluster'] == 0]['languages'].value_counts()\n",
    "#English\n",
    "df[df['cluster'] == 0]['original_language'].value_counts()\n",
    "# en\n",
    "df[df['cluster'] == 0]['prod_country'].value_counts()\n",
    "# USA\n",
    "df[df['cluster'] == 0]['genres1'].value_counts()\n",
    "# drama & comedy"
   ]
  },
  {
   "cell_type": "code",
   "execution_count": 98,
   "metadata": {
    "slideshow": {
     "slide_type": "skip"
    }
   },
   "outputs": [
    {
     "ename": "TypeError",
     "evalue": "unhashable type: 'list'",
     "output_type": "error",
     "traceback": [
      "\u001b[1;31m---------------------------------------------------------------------------\u001b[0m",
      "\u001b[1;31mTypeError\u001b[0m                                 Traceback (most recent call last)",
      "\u001b[1;32mpandas\\_libs\\hashtable_class_helper.pxi\u001b[0m in \u001b[0;36mpandas._libs.hashtable.PyObjectHashTable.map_locations\u001b[1;34m()\u001b[0m\n",
      "\u001b[1;31mTypeError\u001b[0m: unhashable type: 'list'"
     ]
    },
    {
     "name": "stderr",
     "output_type": "stream",
     "text": [
      "Exception ignored in: 'pandas._libs.index.IndexEngine._call_map_locations'\n",
      "Traceback (most recent call last):\n",
      "  File \"pandas\\_libs\\hashtable_class_helper.pxi\", line 1653, in pandas._libs.hashtable.PyObjectHashTable.map_locations\n",
      "TypeError: unhashable type: 'list'\n"
     ]
    },
    {
     "data": {
      "text/plain": [
       "[Drama]                         1299\n",
       "[]                              1219\n",
       "[Documentary]                    657\n",
       "[Comedy]                         619\n",
       "[Comedy, Drama]                  240\n",
       "                                ... \n",
       "[Drama, Romance, Music]            1\n",
       "[Fantasy, Mystery]                 1\n",
       "[Drama, Horror, Fantasy]           1\n",
       "[Foreign, Family]                  1\n",
       "[Animation, Fantasy, Family]       1\n",
       "Name: genres1, Length: 1150, dtype: int64"
      ]
     },
     "execution_count": 98,
     "metadata": {},
     "output_type": "execute_result"
    }
   ],
   "source": [
    "df[df['cluster'] == 1]['languages'].value_counts()\n",
    "# spanish\n",
    "df[df['cluster'] == 1]['original_language'].value_counts()\n",
    "# en\n",
    "df[df['cluster'] == 1]['prod_country'].value_counts()\n",
    "# Russia\n",
    "df[df['cluster'] == 1]['genres1'].value_counts()\n",
    "# drama "
   ]
  },
  {
   "cell_type": "code",
   "execution_count": 102,
   "metadata": {
    "slideshow": {
     "slide_type": "skip"
    }
   },
   "outputs": [
    {
     "ename": "TypeError",
     "evalue": "unhashable type: 'list'",
     "output_type": "error",
     "traceback": [
      "\u001b[1;31m---------------------------------------------------------------------------\u001b[0m",
      "\u001b[1;31mTypeError\u001b[0m                                 Traceback (most recent call last)",
      "\u001b[1;32mpandas\\_libs\\hashtable_class_helper.pxi\u001b[0m in \u001b[0;36mpandas._libs.hashtable.PyObjectHashTable.map_locations\u001b[1;34m()\u001b[0m\n",
      "\u001b[1;31mTypeError\u001b[0m: unhashable type: 'list'"
     ]
    },
    {
     "name": "stderr",
     "output_type": "stream",
     "text": [
      "Exception ignored in: 'pandas._libs.index.IndexEngine._call_map_locations'\n",
      "Traceback (most recent call last):\n",
      "  File \"pandas\\_libs\\hashtable_class_helper.pxi\", line 1653, in pandas._libs.hashtable.PyObjectHashTable.map_locations\n",
      "TypeError: unhashable type: 'list'\n"
     ]
    },
    {
     "data": {
      "text/plain": [
       "[Drama]                                                               454\n",
       "[Comedy]                                                              301\n",
       "[Drama, Romance]                                                      127\n",
       "[Comedy, Drama]                                                        93\n",
       "[Documentary]                                                          82\n",
       "                                                                     ... \n",
       "[Horror, Thriller, Romance]                                             1\n",
       "[Family, Adventure, Comedy, Fantasy]                                    1\n",
       "[Thriller, Adventure, Animation, Comedy, Fantasy, Science Fiction]      1\n",
       "[Horror, Thriller, Romance, Foreign]                                    1\n",
       "[History, Comedy]                                                       1\n",
       "Name: genres1, Length: 447, dtype: int64"
      ]
     },
     "execution_count": 102,
     "metadata": {},
     "output_type": "execute_result"
    }
   ],
   "source": [
    "df[df['cluster'] == 2]['languages'].value_counts()\n",
    "# French\n",
    "df[df['cluster'] == 2]['original_language'].value_counts()\n",
    "# french\n",
    "df[df['cluster'] == 2]['prod_country'].value_counts()\n",
    "# France\n",
    "df[df['cluster'] == 2]['genres1'].value_counts()\n",
    "# drama "
   ]
  },
  {
   "cell_type": "code",
   "execution_count": 106,
   "metadata": {
    "slideshow": {
     "slide_type": "skip"
    }
   },
   "outputs": [
    {
     "ename": "TypeError",
     "evalue": "unhashable type: 'list'",
     "output_type": "error",
     "traceback": [
      "\u001b[1;31m---------------------------------------------------------------------------\u001b[0m",
      "\u001b[1;31mTypeError\u001b[0m                                 Traceback (most recent call last)",
      "\u001b[1;32mpandas\\_libs\\hashtable_class_helper.pxi\u001b[0m in \u001b[0;36mpandas._libs.hashtable.PyObjectHashTable.map_locations\u001b[1;34m()\u001b[0m\n",
      "\u001b[1;31mTypeError\u001b[0m: unhashable type: 'list'"
     ]
    },
    {
     "name": "stderr",
     "output_type": "stream",
     "text": [
      "Exception ignored in: 'pandas._libs.index.IndexEngine._call_map_locations'\n",
      "Traceback (most recent call last):\n",
      "  File \"pandas\\_libs\\hashtable_class_helper.pxi\", line 1653, in pandas._libs.hashtable.PyObjectHashTable.map_locations\n",
      "TypeError: unhashable type: 'list'\n"
     ]
    },
    {
     "data": {
      "text/plain": [
       "[Drama]                                         56\n",
       "[]                                              14\n",
       "[Drama, Romance]                                12\n",
       "[Horror]                                        12\n",
       "[Action, Comedy]                                11\n",
       "                                                ..\n",
       "[Action, Adventure, Drama, Foreign, History]     1\n",
       "[History, Drama, War, Action]                    1\n",
       "[Drama, Thriller, Crime]                         1\n",
       "[Thriller, Mystery, Foreign]                     1\n",
       "[History, Drama]                                 1\n",
       "Name: genres1, Length: 213, dtype: int64"
      ]
     },
     "execution_count": 106,
     "metadata": {},
     "output_type": "execute_result"
    }
   ],
   "source": [
    "df[df['cluster'] == 3]['languages'].value_counts()\n",
    "# Korean\n",
    "df[df['cluster'] == 3]['original_language'].value_counts()\n",
    "# Korean\n",
    "df[df['cluster'] == 3]['prod_country'].value_counts()\n",
    "# South Korea\n",
    "df[df['cluster'] == 3]['genres1'].value_counts()\n",
    "# drama "
   ]
  },
  {
   "cell_type": "code",
   "execution_count": 110,
   "metadata": {
    "slideshow": {
     "slide_type": "skip"
    }
   },
   "outputs": [
    {
     "ename": "TypeError",
     "evalue": "unhashable type: 'list'",
     "output_type": "error",
     "traceback": [
      "\u001b[1;31m---------------------------------------------------------------------------\u001b[0m",
      "\u001b[1;31mTypeError\u001b[0m                                 Traceback (most recent call last)",
      "\u001b[1;32mpandas\\_libs\\hashtable_class_helper.pxi\u001b[0m in \u001b[0;36mpandas._libs.hashtable.PyObjectHashTable.map_locations\u001b[1;34m()\u001b[0m\n",
      "\u001b[1;31mTypeError\u001b[0m: unhashable type: 'list'"
     ]
    },
    {
     "name": "stderr",
     "output_type": "stream",
     "text": [
      "Exception ignored in: 'pandas._libs.index.IndexEngine._call_map_locations'\n",
      "Traceback (most recent call last):\n",
      "  File \"pandas\\_libs\\hashtable_class_helper.pxi\", line 1653, in pandas._libs.hashtable.PyObjectHashTable.map_locations\n",
      "TypeError: unhashable type: 'list'\n"
     ]
    },
    {
     "data": {
      "text/plain": [
       "[Drama]                                        392\n",
       "[Comedy]                                       228\n",
       "[Documentary]                                  190\n",
       "[Drama, Romance]                               152\n",
       "[Horror]                                       109\n",
       "                                              ... \n",
       "[Science Fiction, Comedy, Thriller, Horror]      1\n",
       "[Romance, Adventure, Action, History]            1\n",
       "[Family, Fantasy, Science Fiction]               1\n",
       "[Crime, Comedy, Romance]                         1\n",
       "[Crime, Drama, Thriller, TV Movie]               1\n",
       "Name: genres1, Length: 975, dtype: int64"
      ]
     },
     "execution_count": 110,
     "metadata": {},
     "output_type": "execute_result"
    }
   ],
   "source": [
    "df[df['cluster'] == 4]['languages'].value_counts()\n",
    "# english\n",
    "df[df['cluster'] == 4]['original_language'].value_counts()\n",
    "# en\n",
    "df[df['cluster'] == 4]['prod_country'].value_counts()\n",
    "# UK\n",
    "df[df['cluster'] == 4]['genres1'].value_counts()\n",
    "# drama "
   ]
  },
  {
   "cell_type": "code",
   "execution_count": 114,
   "metadata": {
    "slideshow": {
     "slide_type": "skip"
    }
   },
   "outputs": [
    {
     "ename": "TypeError",
     "evalue": "unhashable type: 'list'",
     "output_type": "error",
     "traceback": [
      "\u001b[1;31m---------------------------------------------------------------------------\u001b[0m",
      "\u001b[1;31mTypeError\u001b[0m                                 Traceback (most recent call last)",
      "\u001b[1;32mpandas\\_libs\\hashtable_class_helper.pxi\u001b[0m in \u001b[0;36mpandas._libs.hashtable.PyObjectHashTable.map_locations\u001b[1;34m()\u001b[0m\n",
      "\u001b[1;31mTypeError\u001b[0m: unhashable type: 'list'"
     ]
    },
    {
     "name": "stderr",
     "output_type": "stream",
     "text": [
      "Exception ignored in: 'pandas._libs.index.IndexEngine._call_map_locations'\n",
      "Traceback (most recent call last):\n",
      "  File \"pandas\\_libs\\hashtable_class_helper.pxi\", line 1653, in pandas._libs.hashtable.PyObjectHashTable.map_locations\n",
      "TypeError: unhashable type: 'list'\n"
     ]
    },
    {
     "data": {
      "text/plain": [
       "[Drama]                                          184\n",
       "[]                                                65\n",
       "[Horror]                                          41\n",
       "[Drama, Romance]                                  31\n",
       "[Comedy]                                          28\n",
       "                                                ... \n",
       "[Adventure, Drama, Romance]                        1\n",
       "[Drama, Action, Romance]                           1\n",
       "[Fantasy, Drama, Action, Thriller, Animation]      1\n",
       "[Animation, Fantasy, Adventure]                    1\n",
       "[Drama, Crime, Action, Thriller]                   1\n",
       "Name: genres1, Length: 556, dtype: int64"
      ]
     },
     "execution_count": 114,
     "metadata": {},
     "output_type": "execute_result"
    }
   ],
   "source": [
    "df[df['cluster'] == 5]['languages'].value_counts()\n",
    "# japanese\n",
    "df[df['cluster'] == 5]['original_language'].value_counts()\n",
    "# japanese\n",
    "df[df['cluster'] == 5]['prod_country'].value_counts()\n",
    "# japan\n",
    "df[df['cluster'] == 5]['genres1'].value_counts()\n",
    "# drama "
   ]
  },
  {
   "cell_type": "code",
   "execution_count": 118,
   "metadata": {
    "slideshow": {
     "slide_type": "skip"
    }
   },
   "outputs": [
    {
     "ename": "TypeError",
     "evalue": "unhashable type: 'list'",
     "output_type": "error",
     "traceback": [
      "\u001b[1;31m---------------------------------------------------------------------------\u001b[0m",
      "\u001b[1;31mTypeError\u001b[0m                                 Traceback (most recent call last)",
      "\u001b[1;32mpandas\\_libs\\hashtable_class_helper.pxi\u001b[0m in \u001b[0;36mpandas._libs.hashtable.PyObjectHashTable.map_locations\u001b[1;34m()\u001b[0m\n",
      "\u001b[1;31mTypeError\u001b[0m: unhashable type: 'list'"
     ]
    },
    {
     "name": "stderr",
     "output_type": "stream",
     "text": [
      "Exception ignored in: 'pandas._libs.index.IndexEngine._call_map_locations'\n",
      "Traceback (most recent call last):\n",
      "  File \"pandas\\_libs\\hashtable_class_helper.pxi\", line 1653, in pandas._libs.hashtable.PyObjectHashTable.map_locations\n",
      "TypeError: unhashable type: 'list'\n"
     ]
    },
    {
     "data": {
      "text/plain": [
       "[Drama]                       203\n",
       "[Comedy]                      104\n",
       "[Documentary]                  54\n",
       "[Comedy, Drama]                37\n",
       "[]                             27\n",
       "                             ... \n",
       "[Western]                       1\n",
       "[Drama, Crime, Thriller]        1\n",
       "[Fantasy, Horror, Mystery]      1\n",
       "[Crime, Science Fiction]        1\n",
       "[Mystery, Horror, History]      1\n",
       "Name: genres1, Length: 239, dtype: int64"
      ]
     },
     "execution_count": 118,
     "metadata": {},
     "output_type": "execute_result"
    }
   ],
   "source": [
    "df[df['cluster'] == 6]['languages'].value_counts()\n",
    "# Deutsch\n",
    "df[df['cluster'] == 6]['original_language'].value_counts()\n",
    "# Deutsch\n",
    "df[df['cluster'] == 6]['prod_country'].value_counts()\n",
    "# Germany\n",
    "df[df['cluster'] == 6]['genres1'].value_counts()\n",
    "# drama "
   ]
  },
  {
   "cell_type": "code",
   "execution_count": 122,
   "metadata": {
    "slideshow": {
     "slide_type": "skip"
    }
   },
   "outputs": [
    {
     "ename": "TypeError",
     "evalue": "unhashable type: 'list'",
     "output_type": "error",
     "traceback": [
      "\u001b[1;31m---------------------------------------------------------------------------\u001b[0m",
      "\u001b[1;31mTypeError\u001b[0m                                 Traceback (most recent call last)",
      "\u001b[1;32mpandas\\_libs\\hashtable_class_helper.pxi\u001b[0m in \u001b[0;36mpandas._libs.hashtable.PyObjectHashTable.map_locations\u001b[1;34m()\u001b[0m\n",
      "\u001b[1;31mTypeError\u001b[0m: unhashable type: 'list'"
     ]
    },
    {
     "name": "stderr",
     "output_type": "stream",
     "text": [
      "Exception ignored in: 'pandas._libs.index.IndexEngine._call_map_locations'\n",
      "Traceback (most recent call last):\n",
      "  File \"pandas\\_libs\\hashtable_class_helper.pxi\", line 1653, in pandas._libs.hashtable.PyObjectHashTable.map_locations\n",
      "TypeError: unhashable type: 'list'\n"
     ]
    },
    {
     "data": {
      "text/plain": [
       "[Comedy]                                         188\n",
       "[Drama]                                          179\n",
       "[]                                                77\n",
       "[Western]                                         71\n",
       "[Horror]                                          48\n",
       "                                                ... \n",
       "[Drama, Thriller, Foreign]                         1\n",
       "[Comedy, Adventure, Science Fiction, Fantasy]      1\n",
       "[Romance, Drama, Horror, Mystery]                  1\n",
       "[Crime, Drama, Foreign, History, Thriller]         1\n",
       "[War, Adventure, History, Drama, Romance]          1\n",
       "Name: genres1, Length: 319, dtype: int64"
      ]
     },
     "execution_count": 122,
     "metadata": {},
     "output_type": "execute_result"
    }
   ],
   "source": [
    "df[df['cluster'] == 7]['languages'].value_counts()\n",
    "# Italian\n",
    "df[df['cluster'] == 7]['original_language'].value_counts()\n",
    "# Italian\n",
    "df[df['cluster'] == 7]['prod_country'].value_counts()\n",
    "# Italy\n",
    "df[df['cluster'] == 7]['genres1'].value_counts()\n",
    "# Comedy/drama "
   ]
  },
  {
   "cell_type": "code",
   "execution_count": 126,
   "metadata": {
    "slideshow": {
     "slide_type": "skip"
    }
   },
   "outputs": [
    {
     "ename": "TypeError",
     "evalue": "unhashable type: 'list'",
     "output_type": "error",
     "traceback": [
      "\u001b[1;31m---------------------------------------------------------------------------\u001b[0m",
      "\u001b[1;31mTypeError\u001b[0m                                 Traceback (most recent call last)",
      "\u001b[1;32mpandas\\_libs\\hashtable_class_helper.pxi\u001b[0m in \u001b[0;36mpandas._libs.hashtable.PyObjectHashTable.map_locations\u001b[1;34m()\u001b[0m\n",
      "\u001b[1;31mTypeError\u001b[0m: unhashable type: 'list'"
     ]
    },
    {
     "name": "stderr",
     "output_type": "stream",
     "text": [
      "Exception ignored in: 'pandas._libs.index.IndexEngine._call_map_locations'\n",
      "Traceback (most recent call last):\n",
      "  File \"pandas\\_libs\\hashtable_class_helper.pxi\", line 1653, in pandas._libs.hashtable.PyObjectHashTable.map_locations\n",
      "TypeError: unhashable type: 'list'\n"
     ]
    },
    {
     "data": {
      "text/plain": [
       "[Documentary]                             608\n",
       "[Drama]                                   452\n",
       "[Comedy]                                  292\n",
       "[]                                        261\n",
       "[Drama, Romance]                          125\n",
       "                                         ... \n",
       "[Crime, Drama, Thriller, TV Movie]          1\n",
       "[Adventure, Science Fiction]                1\n",
       "[TV Movie, Adventure, Comedy, Family]       1\n",
       "[Animation, Comedy, Adventure, Family]      1\n",
       "[Comedy, Drama, TV Movie]                   1\n",
       "Name: genres1, Length: 986, dtype: int64"
      ]
     },
     "execution_count": 126,
     "metadata": {},
     "output_type": "execute_result"
    }
   ],
   "source": [
    "df[df['cluster'] == 8]['languages'].value_counts()\n",
    "# english\n",
    "df[df['cluster'] == 8]['original_language'].value_counts()\n",
    "# en\n",
    "df[df['cluster'] == 8]['prod_country'].value_counts()\n",
    "# Canada\n",
    "df[df['cluster'] == 8]['genres1'].value_counts()\n",
    "# Documentary "
   ]
  },
  {
   "cell_type": "markdown",
   "metadata": {
    "slideshow": {
     "slide_type": "slide"
    }
   },
   "source": [
    "# Conclusion for 9 clusters"
   ]
  },
  {
   "cell_type": "markdown",
   "metadata": {
    "slideshow": {
     "slide_type": "subslide"
    }
   },
   "source": [
    "Cluster 0 features:\n",
    "- spoken language: English\n",
    "- original language: English\n",
    "- made in USA\n",
    "- drama & comedy\n",
    "- has the most budget\n",
    "- has the highest revenue\n",
    "- has the 2nd highest vote count\n",
    "\n",
    "Cluster 1 features:\n",
    "- spoken language: Spanish\n",
    "- original language: English\n",
    "- made in Russia\n",
    "- drama \n",
    "- has the lowest vote count\n",
    "- has the shortest runtime\n",
    "\n",
    "Cluster 2 features:\n",
    "- spoken language: French\n",
    "- original language: French\n",
    "- made in France\n",
    "- drama \n",
    "- 3rd best vote avg\n",
    "\n"
   ]
  },
  {
   "cell_type": "markdown",
   "metadata": {
    "slideshow": {
     "slide_type": "subslide"
    }
   },
   "source": [
    "Cluster 3 features:\n",
    "\n",
    "- spoken language: Korean\n",
    "- original language: Korean\n",
    "- made in South Korea\n",
    "- drama\n",
    "- has the longest runtime\n",
    "- has the best vote avg\n",
    "- has the most recent movies\n",
    "\n",
    "Cluster 4 features:\n",
    "\n",
    "- spoken language: English\n",
    "- original language: English\n",
    "- made in UK\n",
    "- drama\n",
    "- has the most vote count\n",
    "- has the 2nd highest revenue \n",
    "- has the 2nd highest budget\n",
    "\n",
    "Cluster 5 features:\n",
    "- spoken language: Japanese\n",
    "- original language: Japanese\n",
    "- made in Japan\n",
    "- drama \n",
    "- has 2nd best vote avg"
   ]
  },
  {
   "cell_type": "markdown",
   "metadata": {
    "slideshow": {
     "slide_type": "subslide"
    }
   },
   "source": [
    "Cluster 6 features:\n",
    "- spoken language: Deutsch\n",
    "- original language: Deutsch\n",
    "- made in Germany\n",
    "- drama \n",
    "- has the 2nd lowest revenue\n",
    "- has the 2nd lowest vote count\n",
    "\n",
    "Cluster 7 features:\n",
    "- spoken language: Italian\n",
    "- original language: Italian\n",
    "- made in Italy\n",
    "- Comedy & drama \n",
    "- has the smallest budget\n",
    "- has the lowest revenue\n",
    "- has the older movies:1980s\n",
    "\n",
    "Cluster 8 features:\n",
    "- spoken language: English\n",
    "- original language: English\n",
    "- made in Canada\n",
    "- Documentary\n",
    "- has the lowest vote avg"
   ]
  },
  {
   "cell_type": "markdown",
   "metadata": {
    "slideshow": {
     "slide_type": "slide"
    }
   },
   "source": [
    "# Next step:\n",
    "1. we can model sub clusters to have more balanced clusteres since the current 9 clusters are not well balanced\n",
    "2. we can use the current info to predict movie revenue/budget/popularity\n",
    "3. we can use the info to build movie recommendation system: users who like movie A would also like movie BCD, based on your movie history we recommend movie EFG, etc."
   ]
  },
  {
   "cell_type": "markdown",
   "metadata": {
    "slideshow": {
     "slide_type": "slide"
    }
   },
   "source": [
    "# The End"
   ]
  }
 ],
 "metadata": {
  "celltoolbar": "Slideshow",
  "kernelspec": {
   "display_name": "Python 3",
   "language": "python",
   "name": "python3"
  },
  "language_info": {
   "codemirror_mode": {
    "name": "ipython",
    "version": 3
   },
   "file_extension": ".py",
   "mimetype": "text/x-python",
   "name": "python",
   "nbconvert_exporter": "python",
   "pygments_lexer": "ipython3",
   "version": "3.7.1"
  }
 },
 "nbformat": 4,
 "nbformat_minor": 2
}
